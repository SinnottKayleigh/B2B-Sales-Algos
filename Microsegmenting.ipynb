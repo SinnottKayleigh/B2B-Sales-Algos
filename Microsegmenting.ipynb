{
  "nbformat": 4,
  "nbformat_minor": 0,
  "metadata": {
    "colab": {
      "provenance": [],
      "authorship_tag": "ABX9TyNOZAzIJCjKNhzMTltfDpKo",
      "include_colab_link": true
    },
    "kernelspec": {
      "name": "python3",
      "display_name": "Python 3"
    },
    "language_info": {
      "name": "python"
    }
  },
  "cells": [
    {
      "cell_type": "markdown",
      "metadata": {
        "id": "view-in-github",
        "colab_type": "text"
      },
      "source": [
        "<a href=\"https://colab.research.google.com/github/SinnottKayleigh/B2B-Sales-Algos/blob/main/Microsegmenting.ipynb\" target=\"_parent\"><img src=\"https://colab.research.google.com/assets/colab-badge.svg\" alt=\"Open In Colab\"/></a>"
      ]
    },
    {
      "cell_type": "markdown",
      "source": [
        "- Uses ML to segment customers, examine attributes that may lead to sales\n",
        "- Industry, region, size\n",
        "-  Buying patterns - volume, deal size, fx turnover, transaction timing\n",
        "- To personalise value proposition and prioritise leads.\n",
        "\n"
      ],
      "metadata": {
        "id": "pdAJxwDslAyv"
      }
    },
    {
      "cell_type": "code",
      "execution_count": null,
      "metadata": {
        "id": "Z9UgsBxOk48t"
      },
      "outputs": [],
      "source": []
    }
  ]
}