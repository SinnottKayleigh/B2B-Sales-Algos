{
  "nbformat": 4,
  "nbformat_minor": 0,
  "metadata": {
    "colab": {
      "provenance": [],
      "authorship_tag": "ABX9TyPrA3iSQiDYXu8PE/50ebJ/",
      "include_colab_link": true
    },
    "kernelspec": {
      "name": "python3",
      "display_name": "Python 3"
    },
    "language_info": {
      "name": "python"
    }
  },
  "cells": [
    {
      "cell_type": "markdown",
      "metadata": {
        "id": "view-in-github",
        "colab_type": "text"
      },
      "source": [
        "<a href=\"https://colab.research.google.com/github/SinnottKayleigh/B2B-Sales-Algos/blob/main/MIFID_Classifications.ipynb\" target=\"_parent\"><img src=\"https://colab.research.google.com/assets/colab-badge.svg\" alt=\"Open In Colab\"/></a>"
      ]
    },
    {
      "cell_type": "markdown",
      "source": [
        "This snippet of code can be implemented in a larger algorithm, to clearly identify specific MIFID classifications for clients trading options and forwrads."
      ],
      "metadata": {
        "id": "ahgWdBnZAoEQ"
      }
    },
    {
      "cell_type": "markdown",
      "source": [
        "Elective Professional:\n",
        "- Must meet 2/3 of the following criteria:\n",
        "- The client has carried out transactions, in a significant size, on the relevant market at an ***average frequency of 10 per quarter, over the last 4 quarters. ***\n",
        "- The size of the clients financial instrument portfolio defined as ***including cash deposits and financial instruments exceeds EUR 500,000. ***\n",
        "- The client works or has worked in the financial sector for ***at least 1 year in a professional position***, which requires knowledge of transactions or services envisaged."
      ],
      "metadata": {
        "id": "aIfALCNGBoFd"
      }
    },
    {
      "cell_type": "markdown",
      "source": [
        "Per Se Professional:\n",
        "- Meet ***2/3*** of the following:\n",
        "- Balance sheet total of EUR ***20,000,000***\n",
        "- Net turnover of EUR ***40,000,000***\n",
        "- Own funds of EUR ***2,000,000***"
      ],
      "metadata": {
        "id": "6nsTfEsbC-jW"
      }
    },
    {
      "cell_type": "code",
      "source": [],
      "metadata": {
        "id": "jitVUK7UC6FL"
      },
      "execution_count": null,
      "outputs": []
    }
  ]
}