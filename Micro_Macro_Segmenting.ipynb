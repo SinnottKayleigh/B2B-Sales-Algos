{
  "nbformat": 4,
  "nbformat_minor": 0,
  "metadata": {
    "colab": {
      "provenance": [],
      "authorship_tag": "ABX9TyNCcgHOxv1TJiuk8vBdvI65",
      "include_colab_link": true
    },
    "kernelspec": {
      "name": "python3",
      "display_name": "Python 3"
    },
    "language_info": {
      "name": "python"
    }
  },
  "cells": [
    {
      "cell_type": "markdown",
      "metadata": {
        "id": "view-in-github",
        "colab_type": "text"
      },
      "source": [
        "<a href=\"https://colab.research.google.com/github/SinnottKayleigh/B2B-Sales-Algos/blob/main/Micro_Macro_Segmenting.ipynb\" target=\"_parent\"><img src=\"https://colab.research.google.com/assets/colab-badge.svg\" alt=\"Open In Colab\"/></a>"
      ]
    },
    {
      "cell_type": "markdown",
      "source": [
        "- Uses ML to segment customers, examine attributes that may lead to sales\n",
        "- Industry, region, size\n",
        "-  Buying patterns - volume, deal size, fx turnover, transaction timing\n",
        "- To personalise value proposition and prioritise leads\n",
        "- Pyvis is a python library used to map relationships between variables and data, in a neural network type chart\n",
        "- 4 ways to segment and understand relationships between client and prospect attributes.\n",
        "\n",
        "1. Demographic Criteria\n",
        "2. Operating Variables\n",
        "3. Purchasing Approaches\n",
        "4. Situational Factors\n",
        "\n",
        "- Eliminates the time wasted on low-yield opportunities, provides more accurate information for better decision making; optimising resources and time.\n",
        "\n",
        "- Cohort Analysis: involves grouping users based on behavioural characteristics, such as churn rate; the identification of patterns among segments.\n",
        "\n"
      ],
      "metadata": {
        "id": "pdAJxwDslAyv"
      }
    },
    {
      "cell_type": "code",
      "source": [
        "from pyvis.network import Network\n",
        "import networkx as nx"
      ],
      "metadata": {
        "id": "YKHXfLoYnKQQ"
      },
      "execution_count": null,
      "outputs": []
    },
    {
      "cell_type": "markdown",
      "source": [
        "Synthetic dataset"
      ],
      "metadata": {
        "id": "KgyL6agTuD-D"
      }
    },
    {
      "cell_type": "code",
      "source": [
        "import pandas as pd\n",
        "import numpy as np\n",
        "\n",
        "np.random.seed(42)\n",
        "\n",
        "n_customers = 50\n",
        "customer_ids = [f\"CUST_{i+1}\" for i in range(n_customers)]\n",
        "average_trade_sizes = np.random.randint(10000, 1000000, size=n_customers)\n",
        "credit_ratings = np.random.choice([\"AAA\", \"AA\", \"A\", \"BBB\"], size=n_customers)\n",
        "churn_likelihoods = np.round(np.random.uniform(0, 1, size=n_customers), 2)\n",
        "decision_makers = np.random.choice([\"CFO\", \"Treasury Manager\", \"CEO\", \"Head of FX\"], size=n_customers)\n",
        "\n",
        "hq_locations = [\"UK\"] * n_customers\n",
        "subsidiary_locations = np.random.choice([\"USA\", \"Germany\", \"France\", \"Singapore\", \"Japan\"], size=n_customers)\n",
        "\n",
        "data = pd.DataFrame({\n",
        "    \"Customer ID\": customer_ids,\n",
        "    \"Average Trade Size\": average_trade_sizes,\n",
        "    \"HQ Location\": hq_locations,\n",
        "    \"Subsidiary Location\": subsidiary_locations,\n",
        "    \"Credit Rating\": credit_ratings,\n",
        "    \"Churn Likelihood\": churn_likelihoods,\n",
        "    \"Key Decision Maker\": decision_makers\n",
        "})\n",
        "\n",
        "print(data.head())"
      ],
      "metadata": {
        "colab": {
          "base_uri": "https://localhost:8080/"
        },
        "id": "_yy3TMkcnh2z",
        "outputId": "7d171b02-a6f0-46bd-88ac-a9de5b033a2e"
      },
      "execution_count": null,
      "outputs": [
        {
          "output_type": "stream",
          "name": "stdout",
          "text": [
            "  Customer ID  Average Trade Size HQ Location Subsidiary Location  \\\n",
            "0      CUST_1              131958          UK                 USA   \n",
            "1      CUST_2              681155          UK           Singapore   \n",
            "2      CUST_3              141932          UK               Japan   \n",
            "3      CUST_4              375838          UK                 USA   \n",
            "4      CUST_5              269178          UK              France   \n",
            "\n",
            "  Credit Rating  Churn Likelihood Key Decision Maker  \n",
            "0            AA              0.84         Head of FX  \n",
            "1             A              0.45                CEO  \n",
            "2           BBB              0.40                CFO  \n",
            "3             A              0.93         Head of FX  \n",
            "4           BBB              0.73                CFO  \n"
          ]
        }
      ]
    },
    {
      "cell_type": "code",
      "source": [
        "from pyvis.network import Network\n",
        "import pandas as pd\n",
        "\n",
        "net = Network(notebook=True, height=\"750px\", width=\"100%\")\n",
        "\n",
        "for _, row in data.iterrows():\n",
        "    node_id = row[\"Customer ID\"]\n",
        "    node_label = f\"{node_id}\\n({row['Key Decision Maker']})\"\n",
        "    net.add_node(\n",
        "        node_id,\n",
        "        label=node_label,\n",
        "        title=f\"\"\"\n",
        "        Customer ID: {node_id}\n",
        "        Average Trade Size: ${row['Average Trade Size']:,}\n",
        "        HQ Location: {row['HQ Location']}\n",
        "        Subsidiary Location: {row['Subsidiary Location']}\n",
        "        Credit Rating: {row['Credit Rating']}\n",
        "        Churn Likelihood: {row['Churn Likelihood']}\n",
        "        Key Decision Maker: {row['Key Decision Maker']}\n",
        "        \"\"\",\n",
        "        size=row[\"Average Trade Size\"] / 10000\n",
        "    )\n",
        "\n",
        "for i in range(len(data)):\n",
        "    for j in range(i + 1, len(data)):\n",
        "        if data.loc[i, \"Key Decision Maker\"] == data.loc[j, \"Key Decision Maker\"]:\n",
        "            net.add_edge(data.loc[i, \"Customer ID\"], data.loc[j, \"Customer ID\"], title=\"Same Decision Maker\")\n",
        "\n",
        "net.toggle_hide_edges_on_drag(True)\n",
        "net.show_buttons(filter_=['physics'])\n",
        "net.show(\"customer_network.html\")"
      ],
      "metadata": {
        "colab": {
          "base_uri": "https://localhost:8080/",
          "height": 826
        },
        "id": "8PCvq03yuE_N",
        "outputId": "e6cf9ec9-14c0-4ff3-d26a-d04f20e4a1ee"
      },
      "execution_count": null,
      "outputs": [
        {
          "output_type": "stream",
          "name": "stdout",
          "text": [
            "Warning: When  cdn_resources is 'local' jupyter notebook has issues displaying graphics on chrome/safari. Use cdn_resources='in_line' or cdn_resources='remote' if you have issues viewing graphics in a notebook.\n",
            "customer_network.html\n"
          ]
        },
        {
          "output_type": "execute_result",
          "data": {
            "text/plain": [
              "<IPython.lib.display.IFrame at 0x7a79aaed2d90>"
            ],
            "text/html": [
              "\n",
              "        <iframe\n",
              "            width=\"100%\"\n",
              "            height=\"750px\"\n",
              "            src=\"customer_network.html\"\n",
              "            frameborder=\"0\"\n",
              "            allowfullscreen\n",
              "            \n",
              "        ></iframe>\n",
              "        "
            ]
          },
          "metadata": {},
          "execution_count": 16
        }
      ]
    },
    {
      "cell_type": "code",
      "source": [
        "from pyvis.network import Network\n",
        "\n",
        "net = Network(notebook=True, height=\"750px\", width=\"100%\", cdn_resources='remote')\n",
        "\n",
        "for _, row in data.iterrows():\n",
        "    node_id = row[\"Customer ID\"]\n",
        "    node_label = f\"{node_id}\\n({row['Key Decision Maker']})\"\n",
        "    net.add_node(\n",
        "        node_id,\n",
        "        label=node_label,\n",
        "        title=f\"\"\"\n",
        "        Customer ID: {node_id}\n",
        "        Average Trade Size: ${row['Average Trade Size']:,}\n",
        "        HQ Location: {row['HQ Location']}\n",
        "        Subsidiary Location: {row['Subsidiary Location']}\n",
        "        Credit Rating: {row['Credit Rating']}\n",
        "        Churn Likelihood: {row['Churn Likelihood']}\n",
        "        Key Decision Maker: {row['Key Decision Maker']}\n",
        "        \"\"\",\n",
        "        size=row[\"Average Trade Size\"] / 10000\n",
        "    )\n",
        "\n",
        "for i in range(len(data)):\n",
        "    for j in range(i + 1, len(data)):\n",
        "        if data.loc[i, \"Key Decision Maker\"] == data.loc[j, \"Key Decision Maker\"]:\n",
        "            net.add_edge(data.loc[i, \"Customer ID\"], data.loc[j, \"Customer ID\"], title=\"Same Decision Maker\")\n",
        "\n",
        "net.toggle_hide_edges_on_drag(True)\n",
        "net.show_buttons(filter_=['physics'])\n",
        "net.show(\"customer_network.html\")"
      ],
      "metadata": {
        "colab": {
          "base_uri": "https://localhost:8080/",
          "height": 789
        },
        "id": "-7s8NU_YuRKh",
        "outputId": "5b22d306-3442-4472-f713-eff29875751b"
      },
      "execution_count": null,
      "outputs": [
        {
          "output_type": "stream",
          "name": "stdout",
          "text": [
            "customer_network.html\n"
          ]
        },
        {
          "output_type": "execute_result",
          "data": {
            "text/plain": [
              "<IPython.lib.display.IFrame at 0x7a79be86f990>"
            ],
            "text/html": [
              "\n",
              "        <iframe\n",
              "            width=\"100%\"\n",
              "            height=\"750px\"\n",
              "            src=\"customer_network.html\"\n",
              "            frameborder=\"0\"\n",
              "            allowfullscreen\n",
              "            \n",
              "        ></iframe>\n",
              "        "
            ]
          },
          "metadata": {},
          "execution_count": 17
        }
      ]
    },
    {
      "cell_type": "code",
      "source": [],
      "metadata": {
        "id": "t5YUKJxduf7q"
      },
      "execution_count": null,
      "outputs": []
    }
  ]
}