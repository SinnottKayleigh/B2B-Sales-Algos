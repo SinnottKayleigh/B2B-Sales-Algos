{
  "nbformat": 4,
  "nbformat_minor": 0,
  "metadata": {
    "colab": {
      "provenance": [],
      "authorship_tag": "ABX9TyMtr3FPafXwAWzTBvX9BfmU",
      "include_colab_link": true
    },
    "kernelspec": {
      "name": "python3",
      "display_name": "Python 3"
    },
    "language_info": {
      "name": "python"
    }
  },
  "cells": [
    {
      "cell_type": "markdown",
      "metadata": {
        "id": "view-in-github",
        "colab_type": "text"
      },
      "source": [
        "<a href=\"https://colab.research.google.com/github/SinnottKayleigh/B2B-Sales-Algos/blob/main/Micro_Macro_Segmenting.ipynb\" target=\"_parent\"><img src=\"https://colab.research.google.com/assets/colab-badge.svg\" alt=\"Open In Colab\"/></a>"
      ]
    },
    {
      "cell_type": "markdown",
      "source": [
        "- Uses ML to segment customers, examine attributes that may lead to sales\n",
        "- Industry, region, size\n",
        "-  Buying patterns - volume, deal size, fx turnover, transaction timing\n",
        "- To personalise value proposition and prioritise leads\n",
        "- Pyvis is a python library used to map relationships between variables and data, in a neural network type chart\n",
        "- 4 ways to segment and understand relationships between client and prospect attributes.\n",
        "\n",
        "1. Demographic Criteria\n",
        "2. Operating Variables\n",
        "3. Purchasing Approaches\n",
        "4. Situational Factors\n",
        "\n",
        "- Eliminates the time wasted on low-yield opportunities, provides more accurate information for better decision making; optimising resources and time.\n",
        "\n",
        "- Cohort Analysis: involves grouping users based on behavioural characteristics, such as churn rate; the identification of patterns among segments.\n",
        "\n"
      ],
      "metadata": {
        "id": "pdAJxwDslAyv"
      }
    },
    {
      "cell_type": "code",
      "source": [
        "from pyvis.network import Network\n",
        "import networkx as nx"
      ],
      "metadata": {
        "id": "YKHXfLoYnKQQ"
      },
      "execution_count": 20,
      "outputs": []
    },
    {
      "cell_type": "markdown",
      "source": [
        "Synthetic dataset"
      ],
      "metadata": {
        "id": "KgyL6agTuD-D"
      }
    },
    {
      "cell_type": "code",
      "source": [
        "import pandas as pd\n",
        "import numpy as np\n",
        "\n",
        "np.random.seed(42)\n",
        "\n",
        "n_customers = 50\n",
        "customer_ids = [f\"CUST_{i+1}\" for i in range(n_customers)]\n",
        "average_trade_sizes = np.random.randint(10000, 1000000, size=n_customers)\n",
        "credit_ratings = np.random.choice([\"AAA\", \"AA\", \"A\", \"BBB\"], size=n_customers)\n",
        "churn_likelihoods = np.round(np.random.uniform(0, 1, size=n_customers), 2)\n",
        "decision_makers = np.random.choice([\"CFO\", \"Treasury Manager\", \"CEO\", \"Head of FX\"], size=n_customers)\n",
        "\n",
        "hq_locations = [\"UK\"] * n_customers\n",
        "subsidiary_locations = np.random.choice([\"USA\", \"Germany\", \"France\", \"Singapore\", \"Japan\"], size=n_customers)\n",
        "\n",
        "data = pd.DataFrame({\n",
        "    \"Customer ID\": customer_ids,\n",
        "    \"Average Trade Size\": average_trade_sizes,\n",
        "    \"HQ Location\": hq_locations,\n",
        "    \"Subsidiary Location\": subsidiary_locations,\n",
        "    \"Credit Rating\": credit_ratings,\n",
        "    \"Churn Likelihood\": churn_likelihoods,\n",
        "    \"Key Decision Maker\": decision_makers\n",
        "})\n",
        "\n",
        "print(data.head())"
      ],
      "metadata": {
        "colab": {
          "base_uri": "https://localhost:8080/"
        },
        "id": "_yy3TMkcnh2z",
        "outputId": "cb875c16-740c-43c5-ecd4-951d89e66a81"
      },
      "execution_count": 21,
      "outputs": [
        {
          "output_type": "stream",
          "name": "stdout",
          "text": [
            "  Customer ID  Average Trade Size HQ Location Subsidiary Location  \\\n",
            "0      CUST_1              131958          UK                 USA   \n",
            "1      CUST_2              681155          UK           Singapore   \n",
            "2      CUST_3              141932          UK               Japan   \n",
            "3      CUST_4              375838          UK                 USA   \n",
            "4      CUST_5              269178          UK              France   \n",
            "\n",
            "  Credit Rating  Churn Likelihood Key Decision Maker  \n",
            "0            AA              0.84         Head of FX  \n",
            "1             A              0.45                CEO  \n",
            "2           BBB              0.40                CFO  \n",
            "3             A              0.93         Head of FX  \n",
            "4           BBB              0.73                CFO  \n"
          ]
        }
      ]
    },
    {
      "cell_type": "code",
      "source": [
        "from pyvis.network import Network\n",
        "import pandas as pd\n",
        "\n",
        "net = Network(notebook=True, height=\"750px\", width=\"100%\")\n",
        "\n",
        "for _, row in data.iterrows():\n",
        "    node_id = row[\"Customer ID\"]\n",
        "    node_label = f\"{node_id}\\n({row['Key Decision Maker']})\"\n",
        "    net.add_node(\n",
        "        node_id,\n",
        "        label=node_label,\n",
        "        title=f\"\"\"\n",
        "        Customer ID: {node_id}\n",
        "        Average Trade Size: ${row['Average Trade Size']:,}\n",
        "        HQ Location: {row['HQ Location']}\n",
        "        Subsidiary Location: {row['Subsidiary Location']}\n",
        "        Credit Rating: {row['Credit Rating']}\n",
        "        Churn Likelihood: {row['Churn Likelihood']}\n",
        "        Key Decision Maker: {row['Key Decision Maker']}\n",
        "        \"\"\",\n",
        "        size=row[\"Average Trade Size\"] / 10000\n",
        "    )\n",
        "\n",
        "for i in range(len(data)):\n",
        "    for j in range(i + 1, len(data)):\n",
        "        if data.loc[i, \"Key Decision Maker\"] == data.loc[j, \"Key Decision Maker\"]:\n",
        "            net.add_edge(data.loc[i, \"Customer ID\"], data.loc[j, \"Customer ID\"], title=\"Same Decision Maker\")\n",
        "\n",
        "net.toggle_hide_edges_on_drag(True)\n",
        "net.show_buttons(filter_=['physics'])\n",
        "net.show(\"customer_network.html\")"
      ],
      "metadata": {
        "colab": {
          "base_uri": "https://localhost:8080/",
          "height": 826
        },
        "id": "8PCvq03yuE_N",
        "outputId": "a90b6dc3-8e85-4299-c8ee-5825276d9681"
      },
      "execution_count": 22,
      "outputs": [
        {
          "output_type": "stream",
          "name": "stdout",
          "text": [
            "Warning: When  cdn_resources is 'local' jupyter notebook has issues displaying graphics on chrome/safari. Use cdn_resources='in_line' or cdn_resources='remote' if you have issues viewing graphics in a notebook.\n",
            "customer_network.html\n"
          ]
        },
        {
          "output_type": "execute_result",
          "data": {
            "text/plain": [
              "<IPython.lib.display.IFrame at 0x7a79aaf29f90>"
            ],
            "text/html": [
              "\n",
              "        <iframe\n",
              "            width=\"100%\"\n",
              "            height=\"750px\"\n",
              "            src=\"customer_network.html\"\n",
              "            frameborder=\"0\"\n",
              "            allowfullscreen\n",
              "            \n",
              "        ></iframe>\n",
              "        "
            ]
          },
          "metadata": {},
          "execution_count": 22
        }
      ]
    },
    {
      "cell_type": "code",
      "source": [
        "from pyvis.network import Network\n",
        "\n",
        "net = Network(notebook=True, height=\"750px\", width=\"100%\", cdn_resources='remote')\n",
        "\n",
        "for _, row in data.iterrows():\n",
        "    node_id = row[\"Customer ID\"]\n",
        "    node_label = f\"{node_id}\\n({row['Key Decision Maker']})\"\n",
        "    net.add_node(\n",
        "        node_id,\n",
        "        label=node_label,\n",
        "        title=f\"\"\"\n",
        "        Customer ID: {node_id}\n",
        "        Average Trade Size: ${row['Average Trade Size']:,}\n",
        "        HQ Location: {row['HQ Location']}\n",
        "        Subsidiary Location: {row['Subsidiary Location']}\n",
        "        Credit Rating: {row['Credit Rating']}\n",
        "        Churn Likelihood: {row['Churn Likelihood']}\n",
        "        Key Decision Maker: {row['Key Decision Maker']}\n",
        "        \"\"\",\n",
        "        size=row[\"Average Trade Size\"] / 10000\n",
        "    )\n",
        "\n",
        "for i in range(len(data)):\n",
        "    for j in range(i + 1, len(data)):\n",
        "        if data.loc[i, \"Key Decision Maker\"] == data.loc[j, \"Key Decision Maker\"]:\n",
        "            net.add_edge(data.loc[i, \"Customer ID\"], data.loc[j, \"Customer ID\"], title=\"Same Decision Maker\")\n",
        "\n",
        "net.toggle_hide_edges_on_drag(True)\n",
        "net.show_buttons(filter_=['physics'])\n",
        "net.show(\"customer_network.html\")"
      ],
      "metadata": {
        "colab": {
          "base_uri": "https://localhost:8080/",
          "height": 789
        },
        "id": "-7s8NU_YuRKh",
        "outputId": "a39a21b3-aab2-4366-d9d3-e6dfeaa035ea"
      },
      "execution_count": 23,
      "outputs": [
        {
          "output_type": "stream",
          "name": "stdout",
          "text": [
            "customer_network.html\n"
          ]
        },
        {
          "output_type": "execute_result",
          "data": {
            "text/plain": [
              "<IPython.lib.display.IFrame at 0x7a79aaf04490>"
            ],
            "text/html": [
              "\n",
              "        <iframe\n",
              "            width=\"100%\"\n",
              "            height=\"750px\"\n",
              "            src=\"customer_network.html\"\n",
              "            frameborder=\"0\"\n",
              "            allowfullscreen\n",
              "            \n",
              "        ></iframe>\n",
              "        "
            ]
          },
          "metadata": {},
          "execution_count": 23
        }
      ]
    },
    {
      "cell_type": "code",
      "source": [
        "import plotly.express as px\n",
        "import plotly.graph_objects as go\n",
        "from plotly.subplots import make_subplots\n",
        "\n",
        "def create_bubble_chart(data):\n",
        "    fig = px.scatter(data,\n",
        "                    x='Average Trade Size',\n",
        "                    y='Churn Likelihood',\n",
        "                    size='Average Trade Size',\n",
        "                    color='Credit Rating',\n",
        "                    hover_name='Customer ID',\n",
        "                    text='Key Decision Maker',\n",
        "                    title='Customer Analysis - Trade Size vs Churn Risk')\n",
        "\n",
        "    fig.update_traces(textposition='top center')\n",
        "    return fig\n",
        "\n",
        "def create_treemap(data):\n",
        "    fig = px.treemap(data,\n",
        "                    path=['HQ Location', 'Subsidiary Location', 'Key Decision Maker', 'Customer ID'],\n",
        "                    values='Average Trade Size',\n",
        "                    color='Credit Rating',\n",
        "                    title='Customer Hierarchy by Location and Decision Maker')\n",
        "    return fig\n",
        "\n",
        "def create_dashboard(data):\n",
        "    fig = make_subplots(\n",
        "        rows=2, cols=2,\n",
        "        subplot_titles=('Trade Size Distribution', 'Decision Maker Distribution',\n",
        "                       'Credit Rating Distribution', 'Churn Risk Distribution')\n",
        "    )\n",
        "\n",
        "    fig.add_trace(\n",
        "        go.Histogram(x=data['Average Trade Size'], name='Trade Size'),\n",
        "        row=1, col=1\n",
        "    )\n",
        "\n",
        "    decision_maker_counts = data['Key Decision Maker'].value_counts()\n",
        "    fig.add_trace(\n",
        "        go.Bar(x=decision_maker_counts.index, y=decision_maker_counts.values,\n",
        "               name='Decision Makers'),\n",
        "        row=1, col=2\n",
        "    )\n",
        "\n",
        "    credit_rating_counts = data['Credit Rating'].value_counts()\n",
        "    fig.add_trace(\n",
        "        go.Bar(x=credit_rating_counts.index, y=credit_rating_counts.values,\n",
        "               name='Credit Ratings'),\n",
        "        row=2, col=1\n",
        "    )\n",
        "\n",
        "    fig.add_trace(\n",
        "        go.Histogram(x=data['Churn Likelihood'], name='Churn Risk'),\n",
        "        row=2, col=2\n",
        "    )\n",
        "\n",
        "    fig.update_layout(height=800,\n",
        "                     showlegend=True,\n",
        "                     title_text=\"Customer Analysis Dashboard\")\n",
        "\n",
        "    fig.update_xaxes(title_text=\"Trade Size\", row=1, col=1)\n",
        "    fig.update_xaxes(title_text=\"Decision Maker\", row=1, col=2)\n",
        "    fig.update_xaxes(title_text=\"Credit Rating\", row=2, col=1)\n",
        "    fig.update_xaxes(title_text=\"Churn Likelihood\", row=2, col=2)\n",
        "\n",
        "    fig.update_yaxes(title_text=\"Count\", row=1, col=1)\n",
        "    fig.update_yaxes(title_text=\"Count\", row=1, col=2)\n",
        "    fig.update_yaxes(title_text=\"Count\", row=2, col=1)\n",
        "    fig.update_yaxes(title_text=\"Count\", row=2, col=2)\n",
        "\n",
        "    return fig\n",
        "\n",
        "def create_decision_maker_pie(data):\n",
        "    decision_maker_counts = data['Key Decision Maker'].value_counts()\n",
        "    fig = go.Figure(data=[go.Pie(labels=decision_maker_counts.index,\n",
        "                                values=decision_maker_counts.values,\n",
        "                                title='Decision Maker Distribution')])\n",
        "    return fig\n",
        "\n",
        "bubble_chart = create_bubble_chart(data)\n",
        "treemap = create_treemap(data)\n",
        "dashboard = create_dashboard(data)\n",
        "decision_maker_pie = create_decision_maker_pie(data)\n",
        "bubble_chart.show()\n",
        "treemap.show()\n",
        "dashboard.show()\n",
        "decision_maker_pie.show()"
      ],
      "metadata": {
        "colab": {
          "base_uri": "https://localhost:8080/",
          "height": 1000
        },
        "id": "z6qnIuh2z5xg",
        "outputId": "9aeb4abf-29bc-4bb6-fe70-80297f35274f"
      },
      "execution_count": 27,
      "outputs": [
        {
          "output_type": "display_data",
          "data": {
            "text/html": [
              "<html>\n",
              "<head><meta charset=\"utf-8\" /></head>\n",
              "<body>\n",
              "    <div>            <script src=\"https://cdnjs.cloudflare.com/ajax/libs/mathjax/2.7.5/MathJax.js?config=TeX-AMS-MML_SVG\"></script><script type=\"text/javascript\">if (window.MathJax && window.MathJax.Hub && window.MathJax.Hub.Config) {window.MathJax.Hub.Config({SVG: {font: \"STIX-Web\"}});}</script>                <script type=\"text/javascript\">window.PlotlyConfig = {MathJaxConfig: 'local'};</script>\n",
              "        <script charset=\"utf-8\" src=\"https://cdn.plot.ly/plotly-2.35.2.min.js\"></script>                <div id=\"66e75cd1-220a-48ea-8207-a2e1a73eb52c\" class=\"plotly-graph-div\" style=\"height:525px; width:100%;\"></div>            <script type=\"text/javascript\">                                    window.PLOTLYENV=window.PLOTLYENV || {};                                    if (document.getElementById(\"66e75cd1-220a-48ea-8207-a2e1a73eb52c\")) {                    Plotly.newPlot(                        \"66e75cd1-220a-48ea-8207-a2e1a73eb52c\",                        [{\"hovertemplate\":\"\\u003cb\\u003e%{hovertext}\\u003c\\u002fb\\u003e\\u003cbr\\u003e\\u003cbr\\u003eCredit Rating=AA\\u003cbr\\u003eAverage Trade Size=%{marker.size}\\u003cbr\\u003eChurn Likelihood=%{y}\\u003cbr\\u003eKey Decision Maker=%{text}\\u003cextra\\u003e\\u003c\\u002fextra\\u003e\",\"hovertext\":[\"CUST_1\",\"CUST_15\",\"CUST_19\",\"CUST_20\",\"CUST_21\",\"CUST_23\",\"CUST_25\",\"CUST_36\",\"CUST_39\",\"CUST_42\",\"CUST_43\",\"CUST_44\",\"CUST_45\",\"CUST_46\",\"CUST_48\"],\"legendgroup\":\"AA\",\"marker\":{\"color\":\"#636efa\",\"size\":[131958,922756,51090,339365,74820,331879,337069,268795,510186,394681,159503,664811,537035,658143,75725],\"sizemode\":\"area\",\"sizeref\":2498.59,\"symbol\":\"circle\"},\"mode\":\"markers+text\",\"name\":\"AA\",\"orientation\":\"v\",\"showlegend\":true,\"text\":[\"Head of FX\",\"CFO\",\"CEO\",\"CEO\",\"CEO\",\"Head of FX\",\"Treasury Manager\",\"Treasury Manager\",\"Head of FX\",\"Head of FX\",\"CFO\",\"CEO\",\"Treasury Manager\",\"CFO\",\"CFO\"],\"x\":[131958,922756,51090,339365,74820,331879,337069,268795,510186,394681,159503,664811,537035,658143,75725],\"xaxis\":\"x\",\"y\":[0.84,0.61,0.02,0.42,0.39,0.01,0.71,0.67,0.56,0.85,0.72,0.24,0.26,0.04,0.11],\"yaxis\":\"y\",\"type\":\"scatter\",\"textposition\":\"top center\"},{\"hovertemplate\":\"\\u003cb\\u003e%{hovertext}\\u003c\\u002fb\\u003e\\u003cbr\\u003e\\u003cbr\\u003eCredit Rating=A\\u003cbr\\u003eAverage Trade Size=%{marker.size}\\u003cbr\\u003eChurn Likelihood=%{y}\\u003cbr\\u003eKey Decision Maker=%{text}\\u003cextra\\u003e\\u003c\\u002fextra\\u003e\",\"hovertext\":[\"CUST_2\",\"CUST_4\",\"CUST_8\",\"CUST_10\",\"CUST_11\",\"CUST_14\",\"CUST_28\",\"CUST_30\",\"CUST_34\",\"CUST_35\",\"CUST_50\"],\"legendgroup\":\"A\",\"marker\":{\"color\":\"#EF553B\",\"size\":[681155,375838,742180,147337,531430,909159,801743,245796,431909,999436,94654],\"sizemode\":\"area\",\"sizeref\":2498.59,\"symbol\":\"circle\"},\"mode\":\"markers+text\",\"name\":\"A\",\"orientation\":\"v\",\"showlegend\":true,\"text\":[\"CEO\",\"Head of FX\",\"Treasury Manager\",\"CEO\",\"CEO\",\"CEO\",\"CFO\",\"Treasury Manager\",\"Head of FX\",\"Head of FX\",\"Treasury Manager\"],\"x\":[681155,375838,742180,147337,531430,909159,801743,245796,431909,999436,94654],\"xaxis\":\"x\",\"y\":[0.45,0.93,0.52,0.84,0.75,0.97,0.93,0.91,0.37,0.67,0.2],\"yaxis\":\"y\",\"type\":\"scatter\",\"textposition\":\"top center\"},{\"hovertemplate\":\"\\u003cb\\u003e%{hovertext}\\u003c\\u002fb\\u003e\\u003cbr\\u003e\\u003cbr\\u003eCredit Rating=BBB\\u003cbr\\u003eAverage Trade Size=%{marker.size}\\u003cbr\\u003eChurn Likelihood=%{y}\\u003cbr\\u003eKey Decision Maker=%{text}\\u003cextra\\u003e\\u003c\\u002fextra\\u003e\",\"hovertext\":[\"CUST_3\",\"CUST_5\",\"CUST_6\",\"CUST_16\",\"CUST_18\",\"CUST_26\",\"CUST_27\",\"CUST_29\",\"CUST_31\",\"CUST_33\",\"CUST_38\",\"CUST_40\",\"CUST_41\",\"CUST_47\"],\"legendgroup\":\"BBB\",\"marker\":{\"color\":\"#00cc96\",\"size\":[141932,269178,654167,185203,288167,786997,209041,113355,224176,357449,927040,166730,880910,462366],\"sizemode\":\"area\",\"sizeref\":2498.59,\"symbol\":\"circle\"},\"mode\":\"markers+text\",\"name\":\"BBB\",\"orientation\":\"v\",\"showlegend\":true,\"text\":[\"CFO\",\"CFO\",\"Head of FX\",\"Head of FX\",\"Head of FX\",\"CFO\",\"Treasury Manager\",\"CFO\",\"Head of FX\",\"Head of FX\",\"CEO\",\"Treasury Manager\",\"CEO\",\"CFO\"],\"x\":[141932,269178,654167,185203,288167,786997,209041,113355,224176,357449,927040,166730,880910,462366],\"xaxis\":\"x\",\"y\":[0.4,0.73,0.33,0.28,0.17,0.79,0.61,0.65,0.85,0.1,0.27,0.38,0.97,0.71],\"yaxis\":\"y\",\"type\":\"scatter\",\"textposition\":\"top center\"},{\"hovertemplate\":\"\\u003cb\\u003e%{hovertext}\\u003c\\u002fb\\u003e\\u003cbr\\u003e\\u003cbr\\u003eCredit Rating=AAA\\u003cbr\\u003eAverage Trade Size=%{marker.size}\\u003cbr\\u003eChurn Likelihood=%{y}\\u003cbr\\u003eKey Decision Maker=%{text}\\u003cextra\\u003e\\u003c\\u002fextra\\u003e\",\"hovertext\":[\"CUST_7\",\"CUST_9\",\"CUST_12\",\"CUST_13\",\"CUST_17\",\"CUST_22\",\"CUST_24\",\"CUST_32\",\"CUST_37\",\"CUST_49\"],\"legendgroup\":\"AAA\",\"marker\":{\"color\":\"#ab63fa\",\"size\":[120268,64886,964698,97498,201335,797201,728315,194779,496232,139981],\"sizemode\":\"area\",\"sizeref\":2498.59,\"symbol\":\"circle\"},\"mode\":\"markers+text\",\"name\":\"AAA\",\"orientation\":\"v\",\"showlegend\":true,\"text\":[\"Head of FX\",\"CFO\",\"CFO\",\"CEO\",\"CFO\",\"Treasury Manager\",\"Treasury Manager\",\"Head of FX\",\"Treasury Manager\",\"CEO\"],\"x\":[120268,64886,964698,97498,201335,797201,728315,194779,496232,139981],\"xaxis\":\"x\",\"y\":[0.57,0.96,0.54,0.59,0.3,0.29,0.2,0.45,0.59,0.44],\"yaxis\":\"y\",\"type\":\"scatter\",\"textposition\":\"top center\"}],                        {\"template\":{\"data\":{\"histogram2dcontour\":[{\"type\":\"histogram2dcontour\",\"colorbar\":{\"outlinewidth\":0,\"ticks\":\"\"},\"colorscale\":[[0.0,\"#0d0887\"],[0.1111111111111111,\"#46039f\"],[0.2222222222222222,\"#7201a8\"],[0.3333333333333333,\"#9c179e\"],[0.4444444444444444,\"#bd3786\"],[0.5555555555555556,\"#d8576b\"],[0.6666666666666666,\"#ed7953\"],[0.7777777777777778,\"#fb9f3a\"],[0.8888888888888888,\"#fdca26\"],[1.0,\"#f0f921\"]]}],\"choropleth\":[{\"type\":\"choropleth\",\"colorbar\":{\"outlinewidth\":0,\"ticks\":\"\"}}],\"histogram2d\":[{\"type\":\"histogram2d\",\"colorbar\":{\"outlinewidth\":0,\"ticks\":\"\"},\"colorscale\":[[0.0,\"#0d0887\"],[0.1111111111111111,\"#46039f\"],[0.2222222222222222,\"#7201a8\"],[0.3333333333333333,\"#9c179e\"],[0.4444444444444444,\"#bd3786\"],[0.5555555555555556,\"#d8576b\"],[0.6666666666666666,\"#ed7953\"],[0.7777777777777778,\"#fb9f3a\"],[0.8888888888888888,\"#fdca26\"],[1.0,\"#f0f921\"]]}],\"heatmap\":[{\"type\":\"heatmap\",\"colorbar\":{\"outlinewidth\":0,\"ticks\":\"\"},\"colorscale\":[[0.0,\"#0d0887\"],[0.1111111111111111,\"#46039f\"],[0.2222222222222222,\"#7201a8\"],[0.3333333333333333,\"#9c179e\"],[0.4444444444444444,\"#bd3786\"],[0.5555555555555556,\"#d8576b\"],[0.6666666666666666,\"#ed7953\"],[0.7777777777777778,\"#fb9f3a\"],[0.8888888888888888,\"#fdca26\"],[1.0,\"#f0f921\"]]}],\"heatmapgl\":[{\"type\":\"heatmapgl\",\"colorbar\":{\"outlinewidth\":0,\"ticks\":\"\"},\"colorscale\":[[0.0,\"#0d0887\"],[0.1111111111111111,\"#46039f\"],[0.2222222222222222,\"#7201a8\"],[0.3333333333333333,\"#9c179e\"],[0.4444444444444444,\"#bd3786\"],[0.5555555555555556,\"#d8576b\"],[0.6666666666666666,\"#ed7953\"],[0.7777777777777778,\"#fb9f3a\"],[0.8888888888888888,\"#fdca26\"],[1.0,\"#f0f921\"]]}],\"contourcarpet\":[{\"type\":\"contourcarpet\",\"colorbar\":{\"outlinewidth\":0,\"ticks\":\"\"}}],\"contour\":[{\"type\":\"contour\",\"colorbar\":{\"outlinewidth\":0,\"ticks\":\"\"},\"colorscale\":[[0.0,\"#0d0887\"],[0.1111111111111111,\"#46039f\"],[0.2222222222222222,\"#7201a8\"],[0.3333333333333333,\"#9c179e\"],[0.4444444444444444,\"#bd3786\"],[0.5555555555555556,\"#d8576b\"],[0.6666666666666666,\"#ed7953\"],[0.7777777777777778,\"#fb9f3a\"],[0.8888888888888888,\"#fdca26\"],[1.0,\"#f0f921\"]]}],\"surface\":[{\"type\":\"surface\",\"colorbar\":{\"outlinewidth\":0,\"ticks\":\"\"},\"colorscale\":[[0.0,\"#0d0887\"],[0.1111111111111111,\"#46039f\"],[0.2222222222222222,\"#7201a8\"],[0.3333333333333333,\"#9c179e\"],[0.4444444444444444,\"#bd3786\"],[0.5555555555555556,\"#d8576b\"],[0.6666666666666666,\"#ed7953\"],[0.7777777777777778,\"#fb9f3a\"],[0.8888888888888888,\"#fdca26\"],[1.0,\"#f0f921\"]]}],\"mesh3d\":[{\"type\":\"mesh3d\",\"colorbar\":{\"outlinewidth\":0,\"ticks\":\"\"}}],\"scatter\":[{\"fillpattern\":{\"fillmode\":\"overlay\",\"size\":10,\"solidity\":0.2},\"type\":\"scatter\"}],\"parcoords\":[{\"type\":\"parcoords\",\"line\":{\"colorbar\":{\"outlinewidth\":0,\"ticks\":\"\"}}}],\"scatterpolargl\":[{\"type\":\"scatterpolargl\",\"marker\":{\"colorbar\":{\"outlinewidth\":0,\"ticks\":\"\"}}}],\"bar\":[{\"error_x\":{\"color\":\"#2a3f5f\"},\"error_y\":{\"color\":\"#2a3f5f\"},\"marker\":{\"line\":{\"color\":\"#E5ECF6\",\"width\":0.5},\"pattern\":{\"fillmode\":\"overlay\",\"size\":10,\"solidity\":0.2}},\"type\":\"bar\"}],\"scattergeo\":[{\"type\":\"scattergeo\",\"marker\":{\"colorbar\":{\"outlinewidth\":0,\"ticks\":\"\"}}}],\"scatterpolar\":[{\"type\":\"scatterpolar\",\"marker\":{\"colorbar\":{\"outlinewidth\":0,\"ticks\":\"\"}}}],\"histogram\":[{\"marker\":{\"pattern\":{\"fillmode\":\"overlay\",\"size\":10,\"solidity\":0.2}},\"type\":\"histogram\"}],\"scattergl\":[{\"type\":\"scattergl\",\"marker\":{\"colorbar\":{\"outlinewidth\":0,\"ticks\":\"\"}}}],\"scatter3d\":[{\"type\":\"scatter3d\",\"line\":{\"colorbar\":{\"outlinewidth\":0,\"ticks\":\"\"}},\"marker\":{\"colorbar\":{\"outlinewidth\":0,\"ticks\":\"\"}}}],\"scattermapbox\":[{\"type\":\"scattermapbox\",\"marker\":{\"colorbar\":{\"outlinewidth\":0,\"ticks\":\"\"}}}],\"scatterternary\":[{\"type\":\"scatterternary\",\"marker\":{\"colorbar\":{\"outlinewidth\":0,\"ticks\":\"\"}}}],\"scattercarpet\":[{\"type\":\"scattercarpet\",\"marker\":{\"colorbar\":{\"outlinewidth\":0,\"ticks\":\"\"}}}],\"carpet\":[{\"aaxis\":{\"endlinecolor\":\"#2a3f5f\",\"gridcolor\":\"white\",\"linecolor\":\"white\",\"minorgridcolor\":\"white\",\"startlinecolor\":\"#2a3f5f\"},\"baxis\":{\"endlinecolor\":\"#2a3f5f\",\"gridcolor\":\"white\",\"linecolor\":\"white\",\"minorgridcolor\":\"white\",\"startlinecolor\":\"#2a3f5f\"},\"type\":\"carpet\"}],\"table\":[{\"cells\":{\"fill\":{\"color\":\"#EBF0F8\"},\"line\":{\"color\":\"white\"}},\"header\":{\"fill\":{\"color\":\"#C8D4E3\"},\"line\":{\"color\":\"white\"}},\"type\":\"table\"}],\"barpolar\":[{\"marker\":{\"line\":{\"color\":\"#E5ECF6\",\"width\":0.5},\"pattern\":{\"fillmode\":\"overlay\",\"size\":10,\"solidity\":0.2}},\"type\":\"barpolar\"}],\"pie\":[{\"automargin\":true,\"type\":\"pie\"}]},\"layout\":{\"autotypenumbers\":\"strict\",\"colorway\":[\"#636efa\",\"#EF553B\",\"#00cc96\",\"#ab63fa\",\"#FFA15A\",\"#19d3f3\",\"#FF6692\",\"#B6E880\",\"#FF97FF\",\"#FECB52\"],\"font\":{\"color\":\"#2a3f5f\"},\"hovermode\":\"closest\",\"hoverlabel\":{\"align\":\"left\"},\"paper_bgcolor\":\"white\",\"plot_bgcolor\":\"#E5ECF6\",\"polar\":{\"bgcolor\":\"#E5ECF6\",\"angularaxis\":{\"gridcolor\":\"white\",\"linecolor\":\"white\",\"ticks\":\"\"},\"radialaxis\":{\"gridcolor\":\"white\",\"linecolor\":\"white\",\"ticks\":\"\"}},\"ternary\":{\"bgcolor\":\"#E5ECF6\",\"aaxis\":{\"gridcolor\":\"white\",\"linecolor\":\"white\",\"ticks\":\"\"},\"baxis\":{\"gridcolor\":\"white\",\"linecolor\":\"white\",\"ticks\":\"\"},\"caxis\":{\"gridcolor\":\"white\",\"linecolor\":\"white\",\"ticks\":\"\"}},\"coloraxis\":{\"colorbar\":{\"outlinewidth\":0,\"ticks\":\"\"}},\"colorscale\":{\"sequential\":[[0.0,\"#0d0887\"],[0.1111111111111111,\"#46039f\"],[0.2222222222222222,\"#7201a8\"],[0.3333333333333333,\"#9c179e\"],[0.4444444444444444,\"#bd3786\"],[0.5555555555555556,\"#d8576b\"],[0.6666666666666666,\"#ed7953\"],[0.7777777777777778,\"#fb9f3a\"],[0.8888888888888888,\"#fdca26\"],[1.0,\"#f0f921\"]],\"sequentialminus\":[[0.0,\"#0d0887\"],[0.1111111111111111,\"#46039f\"],[0.2222222222222222,\"#7201a8\"],[0.3333333333333333,\"#9c179e\"],[0.4444444444444444,\"#bd3786\"],[0.5555555555555556,\"#d8576b\"],[0.6666666666666666,\"#ed7953\"],[0.7777777777777778,\"#fb9f3a\"],[0.8888888888888888,\"#fdca26\"],[1.0,\"#f0f921\"]],\"diverging\":[[0,\"#8e0152\"],[0.1,\"#c51b7d\"],[0.2,\"#de77ae\"],[0.3,\"#f1b6da\"],[0.4,\"#fde0ef\"],[0.5,\"#f7f7f7\"],[0.6,\"#e6f5d0\"],[0.7,\"#b8e186\"],[0.8,\"#7fbc41\"],[0.9,\"#4d9221\"],[1,\"#276419\"]]},\"xaxis\":{\"gridcolor\":\"white\",\"linecolor\":\"white\",\"ticks\":\"\",\"title\":{\"standoff\":15},\"zerolinecolor\":\"white\",\"automargin\":true,\"zerolinewidth\":2},\"yaxis\":{\"gridcolor\":\"white\",\"linecolor\":\"white\",\"ticks\":\"\",\"title\":{\"standoff\":15},\"zerolinecolor\":\"white\",\"automargin\":true,\"zerolinewidth\":2},\"scene\":{\"xaxis\":{\"backgroundcolor\":\"#E5ECF6\",\"gridcolor\":\"white\",\"linecolor\":\"white\",\"showbackground\":true,\"ticks\":\"\",\"zerolinecolor\":\"white\",\"gridwidth\":2},\"yaxis\":{\"backgroundcolor\":\"#E5ECF6\",\"gridcolor\":\"white\",\"linecolor\":\"white\",\"showbackground\":true,\"ticks\":\"\",\"zerolinecolor\":\"white\",\"gridwidth\":2},\"zaxis\":{\"backgroundcolor\":\"#E5ECF6\",\"gridcolor\":\"white\",\"linecolor\":\"white\",\"showbackground\":true,\"ticks\":\"\",\"zerolinecolor\":\"white\",\"gridwidth\":2}},\"shapedefaults\":{\"line\":{\"color\":\"#2a3f5f\"}},\"annotationdefaults\":{\"arrowcolor\":\"#2a3f5f\",\"arrowhead\":0,\"arrowwidth\":1},\"geo\":{\"bgcolor\":\"white\",\"landcolor\":\"#E5ECF6\",\"subunitcolor\":\"white\",\"showland\":true,\"showlakes\":true,\"lakecolor\":\"white\"},\"title\":{\"x\":0.05},\"mapbox\":{\"style\":\"light\"}}},\"xaxis\":{\"anchor\":\"y\",\"domain\":[0.0,1.0],\"title\":{\"text\":\"Average Trade Size\"}},\"yaxis\":{\"anchor\":\"x\",\"domain\":[0.0,1.0],\"title\":{\"text\":\"Churn Likelihood\"}},\"legend\":{\"title\":{\"text\":\"Credit Rating\"},\"tracegroupgap\":0,\"itemsizing\":\"constant\"},\"title\":{\"text\":\"Customer Analysis - Trade Size vs Churn Risk\"}},                        {\"responsive\": true}                    ).then(function(){\n",
              "                            \n",
              "var gd = document.getElementById('66e75cd1-220a-48ea-8207-a2e1a73eb52c');\n",
              "var x = new MutationObserver(function (mutations, observer) {{\n",
              "        var display = window.getComputedStyle(gd).display;\n",
              "        if (!display || display === 'none') {{\n",
              "            console.log([gd, 'removed!']);\n",
              "            Plotly.purge(gd);\n",
              "            observer.disconnect();\n",
              "        }}\n",
              "}});\n",
              "\n",
              "// Listen for the removal of the full notebook cells\n",
              "var notebookContainer = gd.closest('#notebook-container');\n",
              "if (notebookContainer) {{\n",
              "    x.observe(notebookContainer, {childList: true});\n",
              "}}\n",
              "\n",
              "// Listen for the clearing of the current output cell\n",
              "var outputEl = gd.closest('.output');\n",
              "if (outputEl) {{\n",
              "    x.observe(outputEl, {childList: true});\n",
              "}}\n",
              "\n",
              "                        })                };                            </script>        </div>\n",
              "</body>\n",
              "</html>"
            ]
          },
          "metadata": {}
        },
        {
          "output_type": "display_data",
          "data": {
            "text/html": [
              "<html>\n",
              "<head><meta charset=\"utf-8\" /></head>\n",
              "<body>\n",
              "    <div>            <script src=\"https://cdnjs.cloudflare.com/ajax/libs/mathjax/2.7.5/MathJax.js?config=TeX-AMS-MML_SVG\"></script><script type=\"text/javascript\">if (window.MathJax && window.MathJax.Hub && window.MathJax.Hub.Config) {window.MathJax.Hub.Config({SVG: {font: \"STIX-Web\"}});}</script>                <script type=\"text/javascript\">window.PlotlyConfig = {MathJaxConfig: 'local'};</script>\n",
              "        <script charset=\"utf-8\" src=\"https://cdn.plot.ly/plotly-2.35.2.min.js\"></script>                <div id=\"57dbd2f4-e258-40af-9eb1-5eb6c1be4c33\" class=\"plotly-graph-div\" style=\"height:525px; width:100%;\"></div>            <script type=\"text/javascript\">                                    window.PLOTLYENV=window.PLOTLYENV || {};                                    if (document.getElementById(\"57dbd2f4-e258-40af-9eb1-5eb6c1be4c33\")) {                    Plotly.newPlot(                        \"57dbd2f4-e258-40af-9eb1-5eb6c1be4c33\",                        [{\"branchvalues\":\"total\",\"customdata\":[[\"AAA\"],[\"AA\"],[\"A\"],[\"BBB\"],[\"AA\"],[\"AA\"],[\"A\"],[\"BBB\"],[\"AAA\"],[\"A\"],[\"BBB\"],[\"AA\"],[\"AAA\"],[\"BBB\"],[\"BBB\"],[\"AA\"],[\"A\"],[\"BBB\"],[\"AAA\"],[\"BBB\"],[\"AA\"],[\"AAA\"],[\"A\"],[\"BBB\"],[\"BBB\"],[\"BBB\"],[\"BBB\"],[\"A\"],[\"BBB\"],[\"AA\"],[\"AAA\"],[\"AAA\"],[\"AA\"],[\"A\"],[\"AA\"],[\"A\"],[\"A\"],[\"BBB\"],[\"AAA\"],[\"A\"],[\"AAA\"],[\"AA\"],[\"AA\"],[\"AA\"],[\"AAA\"],[\"AA\"],[\"A\"],[\"BBB\"],[\"AA\"],[\"AA\"],[\"(?)\"],[\"(?)\"],[\"AA\"],[\"(?)\"],[\"(?)\"],[\"BBB\"],[\"(?)\"],[\"BBB\"],[\"(?)\"],[\"(?)\"],[\"(?)\"],[\"(?)\"],[\"AAA\"],[\"BBB\"],[\"(?)\"],[\"(?)\"],[\"(?)\"],[\"(?)\"],[\"(?)\"],[\"AA\"],[\"(?)\"],[\"(?)\"],[\"(?)\"],[\"(?)\"],[\"(?)\"],[\"(?)\"]],\"domain\":{\"x\":[0.0,1.0],\"y\":[0.0,1.0]},\"hovertemplate\":\"labels=%{label}\\u003cbr\\u003eAverage Trade Size=%{value}\\u003cbr\\u003eparent=%{parent}\\u003cbr\\u003eid=%{id}\\u003cbr\\u003eCredit Rating=%{customdata[0]}\\u003cextra\\u003e\\u003c\\u002fextra\\u003e\",\"ids\":[\"UK\\u002fUSA\\u002fCFO\\u002fCUST_9\",\"UK\\u002fGermany\\u002fTreasury Manager\\u002fCUST_36\",\"UK\\u002fUSA\\u002fHead of FX\\u002fCUST_4\",\"UK\\u002fSingapore\\u002fTreasury Manager\\u002fCUST_40\",\"UK\\u002fGermany\\u002fCEO\\u002fCUST_21\",\"UK\\u002fSingapore\\u002fCEO\\u002fCUST_19\",\"UK\\u002fUSA\\u002fHead of FX\\u002fCUST_34\",\"UK\\u002fGermany\\u002fHead of FX\\u002fCUST_18\",\"UK\\u002fSingapore\\u002fCFO\\u002fCUST_12\",\"UK\\u002fFrance\\u002fCEO\\u002fCUST_10\",\"UK\\u002fUSA\\u002fHead of FX\\u002fCUST_16\",\"UK\\u002fUSA\\u002fCFO\\u002fCUST_48\",\"UK\\u002fUSA\\u002fCEO\\u002fCUST_49\",\"UK\\u002fFrance\\u002fCFO\\u002fCUST_5\",\"UK\\u002fFrance\\u002fCFO\\u002fCUST_47\",\"UK\\u002fJapan\\u002fCEO\\u002fCUST_44\",\"UK\\u002fSingapore\\u002fTreasury Manager\\u002fCUST_50\",\"UK\\u002fFrance\\u002fCEO\\u002fCUST_41\",\"UK\\u002fUSA\\u002fHead of FX\\u002fCUST_7\",\"UK\\u002fJapan\\u002fCFO\\u002fCUST_3\",\"UK\\u002fUSA\\u002fHead of FX\\u002fCUST_1\",\"UK\\u002fFrance\\u002fTreasury Manager\\u002fCUST_22\",\"UK\\u002fUSA\\u002fCFO\\u002fCUST_28\",\"UK\\u002fUSA\\u002fCFO\\u002fCUST_26\",\"UK\\u002fSingapore\\u002fHead of FX\\u002fCUST_31\",\"UK\\u002fFrance\\u002fTreasury Manager\\u002fCUST_27\",\"UK\\u002fGermany\\u002fCFO\\u002fCUST_29\",\"UK\\u002fGermany\\u002fTreasury Manager\\u002fCUST_30\",\"UK\\u002fSingapore\\u002fCEO\\u002fCUST_38\",\"UK\\u002fSingapore\\u002fCFO\\u002fCUST_15\",\"UK\\u002fJapan\\u002fTreasury Manager\\u002fCUST_24\",\"UK\\u002fUSA\\u002fCFO\\u002fCUST_17\",\"UK\\u002fFrance\\u002fHead of FX\\u002fCUST_42\",\"UK\\u002fJapan\\u002fTreasury Manager\\u002fCUST_8\",\"UK\\u002fSingapore\\u002fCEO\\u002fCUST_20\",\"UK\\u002fSingapore\\u002fCEO\\u002fCUST_2\",\"UK\\u002fGermany\\u002fCEO\\u002fCUST_11\",\"UK\\u002fFrance\\u002fHead of FX\\u002fCUST_6\",\"UK\\u002fFrance\\u002fCEO\\u002fCUST_13\",\"UK\\u002fUSA\\u002fCEO\\u002fCUST_14\",\"UK\\u002fJapan\\u002fHead of FX\\u002fCUST_32\",\"UK\\u002fSingapore\\u002fTreasury Manager\\u002fCUST_45\",\"UK\\u002fUSA\\u002fHead of FX\\u002fCUST_23\",\"UK\\u002fGermany\\u002fHead of FX\\u002fCUST_39\",\"UK\\u002fJapan\\u002fTreasury Manager\\u002fCUST_37\",\"UK\\u002fUSA\\u002fTreasury Manager\\u002fCUST_25\",\"UK\\u002fFrance\\u002fHead of FX\\u002fCUST_35\",\"UK\\u002fUSA\\u002fHead of FX\\u002fCUST_33\",\"UK\\u002fGermany\\u002fCFO\\u002fCUST_46\",\"UK\\u002fUSA\\u002fCFO\\u002fCUST_43\",\"UK\\u002fFrance\\u002fCEO\",\"UK\\u002fGermany\\u002fCEO\",\"UK\\u002fJapan\\u002fCEO\",\"UK\\u002fSingapore\\u002fCEO\",\"UK\\u002fUSA\\u002fCEO\",\"UK\\u002fFrance\\u002fCFO\",\"UK\\u002fGermany\\u002fCFO\",\"UK\\u002fJapan\\u002fCFO\",\"UK\\u002fSingapore\\u002fCFO\",\"UK\\u002fUSA\\u002fCFO\",\"UK\\u002fFrance\\u002fHead of FX\",\"UK\\u002fGermany\\u002fHead of FX\",\"UK\\u002fJapan\\u002fHead of FX\",\"UK\\u002fSingapore\\u002fHead of FX\",\"UK\\u002fUSA\\u002fHead of FX\",\"UK\\u002fFrance\\u002fTreasury Manager\",\"UK\\u002fGermany\\u002fTreasury Manager\",\"UK\\u002fJapan\\u002fTreasury Manager\",\"UK\\u002fSingapore\\u002fTreasury Manager\",\"UK\\u002fUSA\\u002fTreasury Manager\",\"UK\\u002fFrance\",\"UK\\u002fGermany\",\"UK\\u002fJapan\",\"UK\\u002fSingapore\",\"UK\\u002fUSA\",\"UK\"],\"labels\":[\"CUST_9\",\"CUST_36\",\"CUST_4\",\"CUST_40\",\"CUST_21\",\"CUST_19\",\"CUST_34\",\"CUST_18\",\"CUST_12\",\"CUST_10\",\"CUST_16\",\"CUST_48\",\"CUST_49\",\"CUST_5\",\"CUST_47\",\"CUST_44\",\"CUST_50\",\"CUST_41\",\"CUST_7\",\"CUST_3\",\"CUST_1\",\"CUST_22\",\"CUST_28\",\"CUST_26\",\"CUST_31\",\"CUST_27\",\"CUST_29\",\"CUST_30\",\"CUST_38\",\"CUST_15\",\"CUST_24\",\"CUST_17\",\"CUST_42\",\"CUST_8\",\"CUST_20\",\"CUST_2\",\"CUST_11\",\"CUST_6\",\"CUST_13\",\"CUST_14\",\"CUST_32\",\"CUST_45\",\"CUST_23\",\"CUST_39\",\"CUST_37\",\"CUST_25\",\"CUST_35\",\"CUST_33\",\"CUST_46\",\"CUST_43\",\"CEO\",\"CEO\",\"CEO\",\"CEO\",\"CEO\",\"CFO\",\"CFO\",\"CFO\",\"CFO\",\"CFO\",\"Head of FX\",\"Head of FX\",\"Head of FX\",\"Head of FX\",\"Head of FX\",\"Treasury Manager\",\"Treasury Manager\",\"Treasury Manager\",\"Treasury Manager\",\"Treasury Manager\",\"France\",\"Germany\",\"Japan\",\"Singapore\",\"USA\",\"UK\"],\"marker\":{\"colors\":[\"#636efa\",\"#EF553B\",\"#00cc96\",\"#ab63fa\",\"#EF553B\",\"#EF553B\",\"#00cc96\",\"#ab63fa\",\"#636efa\",\"#00cc96\",\"#ab63fa\",\"#EF553B\",\"#636efa\",\"#ab63fa\",\"#ab63fa\",\"#EF553B\",\"#00cc96\",\"#ab63fa\",\"#636efa\",\"#ab63fa\",\"#EF553B\",\"#636efa\",\"#00cc96\",\"#ab63fa\",\"#ab63fa\",\"#ab63fa\",\"#ab63fa\",\"#00cc96\",\"#ab63fa\",\"#EF553B\",\"#636efa\",\"#636efa\",\"#EF553B\",\"#00cc96\",\"#EF553B\",\"#00cc96\",\"#00cc96\",\"#ab63fa\",\"#636efa\",\"#00cc96\",\"#636efa\",\"#EF553B\",\"#EF553B\",\"#EF553B\",\"#636efa\",\"#EF553B\",\"#00cc96\",\"#ab63fa\",\"#EF553B\",\"#EF553B\",\"#FFA15A\",\"#FFA15A\",\"#EF553B\",\"#FFA15A\",\"#FFA15A\",\"#ab63fa\",\"#FFA15A\",\"#ab63fa\",\"#FFA15A\",\"#FFA15A\",\"#FFA15A\",\"#FFA15A\",\"#636efa\",\"#ab63fa\",\"#FFA15A\",\"#FFA15A\",\"#FFA15A\",\"#FFA15A\",\"#FFA15A\",\"#EF553B\",\"#FFA15A\",\"#FFA15A\",\"#FFA15A\",\"#FFA15A\",\"#FFA15A\",\"#FFA15A\"]},\"name\":\"\",\"parents\":[\"UK\\u002fUSA\\u002fCFO\",\"UK\\u002fGermany\\u002fTreasury Manager\",\"UK\\u002fUSA\\u002fHead of FX\",\"UK\\u002fSingapore\\u002fTreasury Manager\",\"UK\\u002fGermany\\u002fCEO\",\"UK\\u002fSingapore\\u002fCEO\",\"UK\\u002fUSA\\u002fHead of FX\",\"UK\\u002fGermany\\u002fHead of FX\",\"UK\\u002fSingapore\\u002fCFO\",\"UK\\u002fFrance\\u002fCEO\",\"UK\\u002fUSA\\u002fHead of FX\",\"UK\\u002fUSA\\u002fCFO\",\"UK\\u002fUSA\\u002fCEO\",\"UK\\u002fFrance\\u002fCFO\",\"UK\\u002fFrance\\u002fCFO\",\"UK\\u002fJapan\\u002fCEO\",\"UK\\u002fSingapore\\u002fTreasury Manager\",\"UK\\u002fFrance\\u002fCEO\",\"UK\\u002fUSA\\u002fHead of FX\",\"UK\\u002fJapan\\u002fCFO\",\"UK\\u002fUSA\\u002fHead of FX\",\"UK\\u002fFrance\\u002fTreasury Manager\",\"UK\\u002fUSA\\u002fCFO\",\"UK\\u002fUSA\\u002fCFO\",\"UK\\u002fSingapore\\u002fHead of FX\",\"UK\\u002fFrance\\u002fTreasury Manager\",\"UK\\u002fGermany\\u002fCFO\",\"UK\\u002fGermany\\u002fTreasury Manager\",\"UK\\u002fSingapore\\u002fCEO\",\"UK\\u002fSingapore\\u002fCFO\",\"UK\\u002fJapan\\u002fTreasury Manager\",\"UK\\u002fUSA\\u002fCFO\",\"UK\\u002fFrance\\u002fHead of FX\",\"UK\\u002fJapan\\u002fTreasury Manager\",\"UK\\u002fSingapore\\u002fCEO\",\"UK\\u002fSingapore\\u002fCEO\",\"UK\\u002fGermany\\u002fCEO\",\"UK\\u002fFrance\\u002fHead of FX\",\"UK\\u002fFrance\\u002fCEO\",\"UK\\u002fUSA\\u002fCEO\",\"UK\\u002fJapan\\u002fHead of FX\",\"UK\\u002fSingapore\\u002fTreasury Manager\",\"UK\\u002fUSA\\u002fHead of FX\",\"UK\\u002fGermany\\u002fHead of FX\",\"UK\\u002fJapan\\u002fTreasury Manager\",\"UK\\u002fUSA\\u002fTreasury Manager\",\"UK\\u002fFrance\\u002fHead of FX\",\"UK\\u002fUSA\\u002fHead of FX\",\"UK\\u002fGermany\\u002fCFO\",\"UK\\u002fUSA\\u002fCFO\",\"UK\\u002fFrance\",\"UK\\u002fGermany\",\"UK\\u002fJapan\",\"UK\\u002fSingapore\",\"UK\\u002fUSA\",\"UK\\u002fFrance\",\"UK\\u002fGermany\",\"UK\\u002fJapan\",\"UK\\u002fSingapore\",\"UK\\u002fUSA\",\"UK\\u002fFrance\",\"UK\\u002fGermany\",\"UK\\u002fJapan\",\"UK\\u002fSingapore\",\"UK\\u002fUSA\",\"UK\\u002fFrance\",\"UK\\u002fGermany\",\"UK\\u002fJapan\",\"UK\\u002fSingapore\",\"UK\\u002fUSA\",\"UK\",\"UK\",\"UK\",\"UK\",\"UK\",\"\"],\"values\":[64886,268795,375838,166730,74820,51090,431909,288167,964698,147337,185203,75725,139981,269178,462366,664811,94654,880910,120268,141932,131958,797201,801743,786997,224176,209041,113355,245796,927040,922756,728315,201335,394681,742180,339365,681155,531430,654167,97498,909159,194779,537035,331879,510186,496232,337069,999436,357449,658143,159503,1125745,606250,664811,1998650,1049140,731544,771498,141932,1887454,2090189,2048284,798353,194779,224176,1934504,1006242,514591,1966727,798419,337069,4911815,2690692,2968249,4908699,5410902,20890357],\"type\":\"treemap\"}],                        {\"template\":{\"data\":{\"histogram2dcontour\":[{\"type\":\"histogram2dcontour\",\"colorbar\":{\"outlinewidth\":0,\"ticks\":\"\"},\"colorscale\":[[0.0,\"#0d0887\"],[0.1111111111111111,\"#46039f\"],[0.2222222222222222,\"#7201a8\"],[0.3333333333333333,\"#9c179e\"],[0.4444444444444444,\"#bd3786\"],[0.5555555555555556,\"#d8576b\"],[0.6666666666666666,\"#ed7953\"],[0.7777777777777778,\"#fb9f3a\"],[0.8888888888888888,\"#fdca26\"],[1.0,\"#f0f921\"]]}],\"choropleth\":[{\"type\":\"choropleth\",\"colorbar\":{\"outlinewidth\":0,\"ticks\":\"\"}}],\"histogram2d\":[{\"type\":\"histogram2d\",\"colorbar\":{\"outlinewidth\":0,\"ticks\":\"\"},\"colorscale\":[[0.0,\"#0d0887\"],[0.1111111111111111,\"#46039f\"],[0.2222222222222222,\"#7201a8\"],[0.3333333333333333,\"#9c179e\"],[0.4444444444444444,\"#bd3786\"],[0.5555555555555556,\"#d8576b\"],[0.6666666666666666,\"#ed7953\"],[0.7777777777777778,\"#fb9f3a\"],[0.8888888888888888,\"#fdca26\"],[1.0,\"#f0f921\"]]}],\"heatmap\":[{\"type\":\"heatmap\",\"colorbar\":{\"outlinewidth\":0,\"ticks\":\"\"},\"colorscale\":[[0.0,\"#0d0887\"],[0.1111111111111111,\"#46039f\"],[0.2222222222222222,\"#7201a8\"],[0.3333333333333333,\"#9c179e\"],[0.4444444444444444,\"#bd3786\"],[0.5555555555555556,\"#d8576b\"],[0.6666666666666666,\"#ed7953\"],[0.7777777777777778,\"#fb9f3a\"],[0.8888888888888888,\"#fdca26\"],[1.0,\"#f0f921\"]]}],\"heatmapgl\":[{\"type\":\"heatmapgl\",\"colorbar\":{\"outlinewidth\":0,\"ticks\":\"\"},\"colorscale\":[[0.0,\"#0d0887\"],[0.1111111111111111,\"#46039f\"],[0.2222222222222222,\"#7201a8\"],[0.3333333333333333,\"#9c179e\"],[0.4444444444444444,\"#bd3786\"],[0.5555555555555556,\"#d8576b\"],[0.6666666666666666,\"#ed7953\"],[0.7777777777777778,\"#fb9f3a\"],[0.8888888888888888,\"#fdca26\"],[1.0,\"#f0f921\"]]}],\"contourcarpet\":[{\"type\":\"contourcarpet\",\"colorbar\":{\"outlinewidth\":0,\"ticks\":\"\"}}],\"contour\":[{\"type\":\"contour\",\"colorbar\":{\"outlinewidth\":0,\"ticks\":\"\"},\"colorscale\":[[0.0,\"#0d0887\"],[0.1111111111111111,\"#46039f\"],[0.2222222222222222,\"#7201a8\"],[0.3333333333333333,\"#9c179e\"],[0.4444444444444444,\"#bd3786\"],[0.5555555555555556,\"#d8576b\"],[0.6666666666666666,\"#ed7953\"],[0.7777777777777778,\"#fb9f3a\"],[0.8888888888888888,\"#fdca26\"],[1.0,\"#f0f921\"]]}],\"surface\":[{\"type\":\"surface\",\"colorbar\":{\"outlinewidth\":0,\"ticks\":\"\"},\"colorscale\":[[0.0,\"#0d0887\"],[0.1111111111111111,\"#46039f\"],[0.2222222222222222,\"#7201a8\"],[0.3333333333333333,\"#9c179e\"],[0.4444444444444444,\"#bd3786\"],[0.5555555555555556,\"#d8576b\"],[0.6666666666666666,\"#ed7953\"],[0.7777777777777778,\"#fb9f3a\"],[0.8888888888888888,\"#fdca26\"],[1.0,\"#f0f921\"]]}],\"mesh3d\":[{\"type\":\"mesh3d\",\"colorbar\":{\"outlinewidth\":0,\"ticks\":\"\"}}],\"scatter\":[{\"fillpattern\":{\"fillmode\":\"overlay\",\"size\":10,\"solidity\":0.2},\"type\":\"scatter\"}],\"parcoords\":[{\"type\":\"parcoords\",\"line\":{\"colorbar\":{\"outlinewidth\":0,\"ticks\":\"\"}}}],\"scatterpolargl\":[{\"type\":\"scatterpolargl\",\"marker\":{\"colorbar\":{\"outlinewidth\":0,\"ticks\":\"\"}}}],\"bar\":[{\"error_x\":{\"color\":\"#2a3f5f\"},\"error_y\":{\"color\":\"#2a3f5f\"},\"marker\":{\"line\":{\"color\":\"#E5ECF6\",\"width\":0.5},\"pattern\":{\"fillmode\":\"overlay\",\"size\":10,\"solidity\":0.2}},\"type\":\"bar\"}],\"scattergeo\":[{\"type\":\"scattergeo\",\"marker\":{\"colorbar\":{\"outlinewidth\":0,\"ticks\":\"\"}}}],\"scatterpolar\":[{\"type\":\"scatterpolar\",\"marker\":{\"colorbar\":{\"outlinewidth\":0,\"ticks\":\"\"}}}],\"histogram\":[{\"marker\":{\"pattern\":{\"fillmode\":\"overlay\",\"size\":10,\"solidity\":0.2}},\"type\":\"histogram\"}],\"scattergl\":[{\"type\":\"scattergl\",\"marker\":{\"colorbar\":{\"outlinewidth\":0,\"ticks\":\"\"}}}],\"scatter3d\":[{\"type\":\"scatter3d\",\"line\":{\"colorbar\":{\"outlinewidth\":0,\"ticks\":\"\"}},\"marker\":{\"colorbar\":{\"outlinewidth\":0,\"ticks\":\"\"}}}],\"scattermapbox\":[{\"type\":\"scattermapbox\",\"marker\":{\"colorbar\":{\"outlinewidth\":0,\"ticks\":\"\"}}}],\"scatterternary\":[{\"type\":\"scatterternary\",\"marker\":{\"colorbar\":{\"outlinewidth\":0,\"ticks\":\"\"}}}],\"scattercarpet\":[{\"type\":\"scattercarpet\",\"marker\":{\"colorbar\":{\"outlinewidth\":0,\"ticks\":\"\"}}}],\"carpet\":[{\"aaxis\":{\"endlinecolor\":\"#2a3f5f\",\"gridcolor\":\"white\",\"linecolor\":\"white\",\"minorgridcolor\":\"white\",\"startlinecolor\":\"#2a3f5f\"},\"baxis\":{\"endlinecolor\":\"#2a3f5f\",\"gridcolor\":\"white\",\"linecolor\":\"white\",\"minorgridcolor\":\"white\",\"startlinecolor\":\"#2a3f5f\"},\"type\":\"carpet\"}],\"table\":[{\"cells\":{\"fill\":{\"color\":\"#EBF0F8\"},\"line\":{\"color\":\"white\"}},\"header\":{\"fill\":{\"color\":\"#C8D4E3\"},\"line\":{\"color\":\"white\"}},\"type\":\"table\"}],\"barpolar\":[{\"marker\":{\"line\":{\"color\":\"#E5ECF6\",\"width\":0.5},\"pattern\":{\"fillmode\":\"overlay\",\"size\":10,\"solidity\":0.2}},\"type\":\"barpolar\"}],\"pie\":[{\"automargin\":true,\"type\":\"pie\"}]},\"layout\":{\"autotypenumbers\":\"strict\",\"colorway\":[\"#636efa\",\"#EF553B\",\"#00cc96\",\"#ab63fa\",\"#FFA15A\",\"#19d3f3\",\"#FF6692\",\"#B6E880\",\"#FF97FF\",\"#FECB52\"],\"font\":{\"color\":\"#2a3f5f\"},\"hovermode\":\"closest\",\"hoverlabel\":{\"align\":\"left\"},\"paper_bgcolor\":\"white\",\"plot_bgcolor\":\"#E5ECF6\",\"polar\":{\"bgcolor\":\"#E5ECF6\",\"angularaxis\":{\"gridcolor\":\"white\",\"linecolor\":\"white\",\"ticks\":\"\"},\"radialaxis\":{\"gridcolor\":\"white\",\"linecolor\":\"white\",\"ticks\":\"\"}},\"ternary\":{\"bgcolor\":\"#E5ECF6\",\"aaxis\":{\"gridcolor\":\"white\",\"linecolor\":\"white\",\"ticks\":\"\"},\"baxis\":{\"gridcolor\":\"white\",\"linecolor\":\"white\",\"ticks\":\"\"},\"caxis\":{\"gridcolor\":\"white\",\"linecolor\":\"white\",\"ticks\":\"\"}},\"coloraxis\":{\"colorbar\":{\"outlinewidth\":0,\"ticks\":\"\"}},\"colorscale\":{\"sequential\":[[0.0,\"#0d0887\"],[0.1111111111111111,\"#46039f\"],[0.2222222222222222,\"#7201a8\"],[0.3333333333333333,\"#9c179e\"],[0.4444444444444444,\"#bd3786\"],[0.5555555555555556,\"#d8576b\"],[0.6666666666666666,\"#ed7953\"],[0.7777777777777778,\"#fb9f3a\"],[0.8888888888888888,\"#fdca26\"],[1.0,\"#f0f921\"]],\"sequentialminus\":[[0.0,\"#0d0887\"],[0.1111111111111111,\"#46039f\"],[0.2222222222222222,\"#7201a8\"],[0.3333333333333333,\"#9c179e\"],[0.4444444444444444,\"#bd3786\"],[0.5555555555555556,\"#d8576b\"],[0.6666666666666666,\"#ed7953\"],[0.7777777777777778,\"#fb9f3a\"],[0.8888888888888888,\"#fdca26\"],[1.0,\"#f0f921\"]],\"diverging\":[[0,\"#8e0152\"],[0.1,\"#c51b7d\"],[0.2,\"#de77ae\"],[0.3,\"#f1b6da\"],[0.4,\"#fde0ef\"],[0.5,\"#f7f7f7\"],[0.6,\"#e6f5d0\"],[0.7,\"#b8e186\"],[0.8,\"#7fbc41\"],[0.9,\"#4d9221\"],[1,\"#276419\"]]},\"xaxis\":{\"gridcolor\":\"white\",\"linecolor\":\"white\",\"ticks\":\"\",\"title\":{\"standoff\":15},\"zerolinecolor\":\"white\",\"automargin\":true,\"zerolinewidth\":2},\"yaxis\":{\"gridcolor\":\"white\",\"linecolor\":\"white\",\"ticks\":\"\",\"title\":{\"standoff\":15},\"zerolinecolor\":\"white\",\"automargin\":true,\"zerolinewidth\":2},\"scene\":{\"xaxis\":{\"backgroundcolor\":\"#E5ECF6\",\"gridcolor\":\"white\",\"linecolor\":\"white\",\"showbackground\":true,\"ticks\":\"\",\"zerolinecolor\":\"white\",\"gridwidth\":2},\"yaxis\":{\"backgroundcolor\":\"#E5ECF6\",\"gridcolor\":\"white\",\"linecolor\":\"white\",\"showbackground\":true,\"ticks\":\"\",\"zerolinecolor\":\"white\",\"gridwidth\":2},\"zaxis\":{\"backgroundcolor\":\"#E5ECF6\",\"gridcolor\":\"white\",\"linecolor\":\"white\",\"showbackground\":true,\"ticks\":\"\",\"zerolinecolor\":\"white\",\"gridwidth\":2}},\"shapedefaults\":{\"line\":{\"color\":\"#2a3f5f\"}},\"annotationdefaults\":{\"arrowcolor\":\"#2a3f5f\",\"arrowhead\":0,\"arrowwidth\":1},\"geo\":{\"bgcolor\":\"white\",\"landcolor\":\"#E5ECF6\",\"subunitcolor\":\"white\",\"showland\":true,\"showlakes\":true,\"lakecolor\":\"white\"},\"title\":{\"x\":0.05},\"mapbox\":{\"style\":\"light\"}}},\"legend\":{\"tracegroupgap\":0},\"title\":{\"text\":\"Customer Hierarchy by Location and Decision Maker\"}},                        {\"responsive\": true}                    ).then(function(){\n",
              "                            \n",
              "var gd = document.getElementById('57dbd2f4-e258-40af-9eb1-5eb6c1be4c33');\n",
              "var x = new MutationObserver(function (mutations, observer) {{\n",
              "        var display = window.getComputedStyle(gd).display;\n",
              "        if (!display || display === 'none') {{\n",
              "            console.log([gd, 'removed!']);\n",
              "            Plotly.purge(gd);\n",
              "            observer.disconnect();\n",
              "        }}\n",
              "}});\n",
              "\n",
              "// Listen for the removal of the full notebook cells\n",
              "var notebookContainer = gd.closest('#notebook-container');\n",
              "if (notebookContainer) {{\n",
              "    x.observe(notebookContainer, {childList: true});\n",
              "}}\n",
              "\n",
              "// Listen for the clearing of the current output cell\n",
              "var outputEl = gd.closest('.output');\n",
              "if (outputEl) {{\n",
              "    x.observe(outputEl, {childList: true});\n",
              "}}\n",
              "\n",
              "                        })                };                            </script>        </div>\n",
              "</body>\n",
              "</html>"
            ]
          },
          "metadata": {}
        },
        {
          "output_type": "display_data",
          "data": {
            "text/html": [
              "<html>\n",
              "<head><meta charset=\"utf-8\" /></head>\n",
              "<body>\n",
              "    <div>            <script src=\"https://cdnjs.cloudflare.com/ajax/libs/mathjax/2.7.5/MathJax.js?config=TeX-AMS-MML_SVG\"></script><script type=\"text/javascript\">if (window.MathJax && window.MathJax.Hub && window.MathJax.Hub.Config) {window.MathJax.Hub.Config({SVG: {font: \"STIX-Web\"}});}</script>                <script type=\"text/javascript\">window.PlotlyConfig = {MathJaxConfig: 'local'};</script>\n",
              "        <script charset=\"utf-8\" src=\"https://cdn.plot.ly/plotly-2.35.2.min.js\"></script>                <div id=\"f2ddddff-5b9f-4894-996b-85080e0d1781\" class=\"plotly-graph-div\" style=\"height:800px; width:100%;\"></div>            <script type=\"text/javascript\">                                    window.PLOTLYENV=window.PLOTLYENV || {};                                    if (document.getElementById(\"f2ddddff-5b9f-4894-996b-85080e0d1781\")) {                    Plotly.newPlot(                        \"f2ddddff-5b9f-4894-996b-85080e0d1781\",                        [{\"name\":\"Trade Size\",\"x\":[131958,681155,141932,375838,269178,654167,120268,742180,64886,147337,531430,964698,97498,909159,922756,185203,201335,288167,51090,339365,74820,797201,331879,728315,337069,786997,209041,801743,113355,245796,224176,194779,357449,431909,999436,268795,496232,927040,510186,166730,880910,394681,159503,664811,537035,658143,462366,75725,139981,94654],\"type\":\"histogram\",\"xaxis\":\"x\",\"yaxis\":\"y\"},{\"name\":\"Decision Makers\",\"x\":[\"Head of FX\",\"CFO\",\"CEO\",\"Treasury Manager\"],\"y\":[14,13,12,11],\"type\":\"bar\",\"xaxis\":\"x2\",\"yaxis\":\"y2\"},{\"name\":\"Credit Ratings\",\"x\":[\"AA\",\"BBB\",\"A\",\"AAA\"],\"y\":[15,14,11,10],\"type\":\"bar\",\"xaxis\":\"x3\",\"yaxis\":\"y3\"},{\"name\":\"Churn Risk\",\"x\":[0.84,0.45,0.4,0.93,0.73,0.33,0.57,0.52,0.96,0.84,0.75,0.54,0.59,0.97,0.61,0.28,0.3,0.17,0.02,0.42,0.39,0.29,0.01,0.2,0.71,0.79,0.61,0.93,0.65,0.91,0.85,0.45,0.1,0.37,0.67,0.67,0.59,0.27,0.56,0.38,0.97,0.85,0.72,0.24,0.26,0.04,0.71,0.11,0.44,0.2],\"type\":\"histogram\",\"xaxis\":\"x4\",\"yaxis\":\"y4\"}],                        {\"template\":{\"data\":{\"histogram2dcontour\":[{\"type\":\"histogram2dcontour\",\"colorbar\":{\"outlinewidth\":0,\"ticks\":\"\"},\"colorscale\":[[0.0,\"#0d0887\"],[0.1111111111111111,\"#46039f\"],[0.2222222222222222,\"#7201a8\"],[0.3333333333333333,\"#9c179e\"],[0.4444444444444444,\"#bd3786\"],[0.5555555555555556,\"#d8576b\"],[0.6666666666666666,\"#ed7953\"],[0.7777777777777778,\"#fb9f3a\"],[0.8888888888888888,\"#fdca26\"],[1.0,\"#f0f921\"]]}],\"choropleth\":[{\"type\":\"choropleth\",\"colorbar\":{\"outlinewidth\":0,\"ticks\":\"\"}}],\"histogram2d\":[{\"type\":\"histogram2d\",\"colorbar\":{\"outlinewidth\":0,\"ticks\":\"\"},\"colorscale\":[[0.0,\"#0d0887\"],[0.1111111111111111,\"#46039f\"],[0.2222222222222222,\"#7201a8\"],[0.3333333333333333,\"#9c179e\"],[0.4444444444444444,\"#bd3786\"],[0.5555555555555556,\"#d8576b\"],[0.6666666666666666,\"#ed7953\"],[0.7777777777777778,\"#fb9f3a\"],[0.8888888888888888,\"#fdca26\"],[1.0,\"#f0f921\"]]}],\"heatmap\":[{\"type\":\"heatmap\",\"colorbar\":{\"outlinewidth\":0,\"ticks\":\"\"},\"colorscale\":[[0.0,\"#0d0887\"],[0.1111111111111111,\"#46039f\"],[0.2222222222222222,\"#7201a8\"],[0.3333333333333333,\"#9c179e\"],[0.4444444444444444,\"#bd3786\"],[0.5555555555555556,\"#d8576b\"],[0.6666666666666666,\"#ed7953\"],[0.7777777777777778,\"#fb9f3a\"],[0.8888888888888888,\"#fdca26\"],[1.0,\"#f0f921\"]]}],\"heatmapgl\":[{\"type\":\"heatmapgl\",\"colorbar\":{\"outlinewidth\":0,\"ticks\":\"\"},\"colorscale\":[[0.0,\"#0d0887\"],[0.1111111111111111,\"#46039f\"],[0.2222222222222222,\"#7201a8\"],[0.3333333333333333,\"#9c179e\"],[0.4444444444444444,\"#bd3786\"],[0.5555555555555556,\"#d8576b\"],[0.6666666666666666,\"#ed7953\"],[0.7777777777777778,\"#fb9f3a\"],[0.8888888888888888,\"#fdca26\"],[1.0,\"#f0f921\"]]}],\"contourcarpet\":[{\"type\":\"contourcarpet\",\"colorbar\":{\"outlinewidth\":0,\"ticks\":\"\"}}],\"contour\":[{\"type\":\"contour\",\"colorbar\":{\"outlinewidth\":0,\"ticks\":\"\"},\"colorscale\":[[0.0,\"#0d0887\"],[0.1111111111111111,\"#46039f\"],[0.2222222222222222,\"#7201a8\"],[0.3333333333333333,\"#9c179e\"],[0.4444444444444444,\"#bd3786\"],[0.5555555555555556,\"#d8576b\"],[0.6666666666666666,\"#ed7953\"],[0.7777777777777778,\"#fb9f3a\"],[0.8888888888888888,\"#fdca26\"],[1.0,\"#f0f921\"]]}],\"surface\":[{\"type\":\"surface\",\"colorbar\":{\"outlinewidth\":0,\"ticks\":\"\"},\"colorscale\":[[0.0,\"#0d0887\"],[0.1111111111111111,\"#46039f\"],[0.2222222222222222,\"#7201a8\"],[0.3333333333333333,\"#9c179e\"],[0.4444444444444444,\"#bd3786\"],[0.5555555555555556,\"#d8576b\"],[0.6666666666666666,\"#ed7953\"],[0.7777777777777778,\"#fb9f3a\"],[0.8888888888888888,\"#fdca26\"],[1.0,\"#f0f921\"]]}],\"mesh3d\":[{\"type\":\"mesh3d\",\"colorbar\":{\"outlinewidth\":0,\"ticks\":\"\"}}],\"scatter\":[{\"fillpattern\":{\"fillmode\":\"overlay\",\"size\":10,\"solidity\":0.2},\"type\":\"scatter\"}],\"parcoords\":[{\"type\":\"parcoords\",\"line\":{\"colorbar\":{\"outlinewidth\":0,\"ticks\":\"\"}}}],\"scatterpolargl\":[{\"type\":\"scatterpolargl\",\"marker\":{\"colorbar\":{\"outlinewidth\":0,\"ticks\":\"\"}}}],\"bar\":[{\"error_x\":{\"color\":\"#2a3f5f\"},\"error_y\":{\"color\":\"#2a3f5f\"},\"marker\":{\"line\":{\"color\":\"#E5ECF6\",\"width\":0.5},\"pattern\":{\"fillmode\":\"overlay\",\"size\":10,\"solidity\":0.2}},\"type\":\"bar\"}],\"scattergeo\":[{\"type\":\"scattergeo\",\"marker\":{\"colorbar\":{\"outlinewidth\":0,\"ticks\":\"\"}}}],\"scatterpolar\":[{\"type\":\"scatterpolar\",\"marker\":{\"colorbar\":{\"outlinewidth\":0,\"ticks\":\"\"}}}],\"histogram\":[{\"marker\":{\"pattern\":{\"fillmode\":\"overlay\",\"size\":10,\"solidity\":0.2}},\"type\":\"histogram\"}],\"scattergl\":[{\"type\":\"scattergl\",\"marker\":{\"colorbar\":{\"outlinewidth\":0,\"ticks\":\"\"}}}],\"scatter3d\":[{\"type\":\"scatter3d\",\"line\":{\"colorbar\":{\"outlinewidth\":0,\"ticks\":\"\"}},\"marker\":{\"colorbar\":{\"outlinewidth\":0,\"ticks\":\"\"}}}],\"scattermapbox\":[{\"type\":\"scattermapbox\",\"marker\":{\"colorbar\":{\"outlinewidth\":0,\"ticks\":\"\"}}}],\"scatterternary\":[{\"type\":\"scatterternary\",\"marker\":{\"colorbar\":{\"outlinewidth\":0,\"ticks\":\"\"}}}],\"scattercarpet\":[{\"type\":\"scattercarpet\",\"marker\":{\"colorbar\":{\"outlinewidth\":0,\"ticks\":\"\"}}}],\"carpet\":[{\"aaxis\":{\"endlinecolor\":\"#2a3f5f\",\"gridcolor\":\"white\",\"linecolor\":\"white\",\"minorgridcolor\":\"white\",\"startlinecolor\":\"#2a3f5f\"},\"baxis\":{\"endlinecolor\":\"#2a3f5f\",\"gridcolor\":\"white\",\"linecolor\":\"white\",\"minorgridcolor\":\"white\",\"startlinecolor\":\"#2a3f5f\"},\"type\":\"carpet\"}],\"table\":[{\"cells\":{\"fill\":{\"color\":\"#EBF0F8\"},\"line\":{\"color\":\"white\"}},\"header\":{\"fill\":{\"color\":\"#C8D4E3\"},\"line\":{\"color\":\"white\"}},\"type\":\"table\"}],\"barpolar\":[{\"marker\":{\"line\":{\"color\":\"#E5ECF6\",\"width\":0.5},\"pattern\":{\"fillmode\":\"overlay\",\"size\":10,\"solidity\":0.2}},\"type\":\"barpolar\"}],\"pie\":[{\"automargin\":true,\"type\":\"pie\"}]},\"layout\":{\"autotypenumbers\":\"strict\",\"colorway\":[\"#636efa\",\"#EF553B\",\"#00cc96\",\"#ab63fa\",\"#FFA15A\",\"#19d3f3\",\"#FF6692\",\"#B6E880\",\"#FF97FF\",\"#FECB52\"],\"font\":{\"color\":\"#2a3f5f\"},\"hovermode\":\"closest\",\"hoverlabel\":{\"align\":\"left\"},\"paper_bgcolor\":\"white\",\"plot_bgcolor\":\"#E5ECF6\",\"polar\":{\"bgcolor\":\"#E5ECF6\",\"angularaxis\":{\"gridcolor\":\"white\",\"linecolor\":\"white\",\"ticks\":\"\"},\"radialaxis\":{\"gridcolor\":\"white\",\"linecolor\":\"white\",\"ticks\":\"\"}},\"ternary\":{\"bgcolor\":\"#E5ECF6\",\"aaxis\":{\"gridcolor\":\"white\",\"linecolor\":\"white\",\"ticks\":\"\"},\"baxis\":{\"gridcolor\":\"white\",\"linecolor\":\"white\",\"ticks\":\"\"},\"caxis\":{\"gridcolor\":\"white\",\"linecolor\":\"white\",\"ticks\":\"\"}},\"coloraxis\":{\"colorbar\":{\"outlinewidth\":0,\"ticks\":\"\"}},\"colorscale\":{\"sequential\":[[0.0,\"#0d0887\"],[0.1111111111111111,\"#46039f\"],[0.2222222222222222,\"#7201a8\"],[0.3333333333333333,\"#9c179e\"],[0.4444444444444444,\"#bd3786\"],[0.5555555555555556,\"#d8576b\"],[0.6666666666666666,\"#ed7953\"],[0.7777777777777778,\"#fb9f3a\"],[0.8888888888888888,\"#fdca26\"],[1.0,\"#f0f921\"]],\"sequentialminus\":[[0.0,\"#0d0887\"],[0.1111111111111111,\"#46039f\"],[0.2222222222222222,\"#7201a8\"],[0.3333333333333333,\"#9c179e\"],[0.4444444444444444,\"#bd3786\"],[0.5555555555555556,\"#d8576b\"],[0.6666666666666666,\"#ed7953\"],[0.7777777777777778,\"#fb9f3a\"],[0.8888888888888888,\"#fdca26\"],[1.0,\"#f0f921\"]],\"diverging\":[[0,\"#8e0152\"],[0.1,\"#c51b7d\"],[0.2,\"#de77ae\"],[0.3,\"#f1b6da\"],[0.4,\"#fde0ef\"],[0.5,\"#f7f7f7\"],[0.6,\"#e6f5d0\"],[0.7,\"#b8e186\"],[0.8,\"#7fbc41\"],[0.9,\"#4d9221\"],[1,\"#276419\"]]},\"xaxis\":{\"gridcolor\":\"white\",\"linecolor\":\"white\",\"ticks\":\"\",\"title\":{\"standoff\":15},\"zerolinecolor\":\"white\",\"automargin\":true,\"zerolinewidth\":2},\"yaxis\":{\"gridcolor\":\"white\",\"linecolor\":\"white\",\"ticks\":\"\",\"title\":{\"standoff\":15},\"zerolinecolor\":\"white\",\"automargin\":true,\"zerolinewidth\":2},\"scene\":{\"xaxis\":{\"backgroundcolor\":\"#E5ECF6\",\"gridcolor\":\"white\",\"linecolor\":\"white\",\"showbackground\":true,\"ticks\":\"\",\"zerolinecolor\":\"white\",\"gridwidth\":2},\"yaxis\":{\"backgroundcolor\":\"#E5ECF6\",\"gridcolor\":\"white\",\"linecolor\":\"white\",\"showbackground\":true,\"ticks\":\"\",\"zerolinecolor\":\"white\",\"gridwidth\":2},\"zaxis\":{\"backgroundcolor\":\"#E5ECF6\",\"gridcolor\":\"white\",\"linecolor\":\"white\",\"showbackground\":true,\"ticks\":\"\",\"zerolinecolor\":\"white\",\"gridwidth\":2}},\"shapedefaults\":{\"line\":{\"color\":\"#2a3f5f\"}},\"annotationdefaults\":{\"arrowcolor\":\"#2a3f5f\",\"arrowhead\":0,\"arrowwidth\":1},\"geo\":{\"bgcolor\":\"white\",\"landcolor\":\"#E5ECF6\",\"subunitcolor\":\"white\",\"showland\":true,\"showlakes\":true,\"lakecolor\":\"white\"},\"title\":{\"x\":0.05},\"mapbox\":{\"style\":\"light\"}}},\"xaxis\":{\"anchor\":\"y\",\"domain\":[0.0,0.45],\"title\":{\"text\":\"Trade Size\"}},\"yaxis\":{\"anchor\":\"x\",\"domain\":[0.625,1.0],\"title\":{\"text\":\"Count\"}},\"xaxis2\":{\"anchor\":\"y2\",\"domain\":[0.55,1.0],\"title\":{\"text\":\"Decision Maker\"}},\"yaxis2\":{\"anchor\":\"x2\",\"domain\":[0.625,1.0],\"title\":{\"text\":\"Count\"}},\"xaxis3\":{\"anchor\":\"y3\",\"domain\":[0.0,0.45],\"title\":{\"text\":\"Credit Rating\"}},\"yaxis3\":{\"anchor\":\"x3\",\"domain\":[0.0,0.375],\"title\":{\"text\":\"Count\"}},\"xaxis4\":{\"anchor\":\"y4\",\"domain\":[0.55,1.0],\"title\":{\"text\":\"Churn Likelihood\"}},\"yaxis4\":{\"anchor\":\"x4\",\"domain\":[0.0,0.375],\"title\":{\"text\":\"Count\"}},\"annotations\":[{\"font\":{\"size\":16},\"showarrow\":false,\"text\":\"Trade Size Distribution\",\"x\":0.225,\"xanchor\":\"center\",\"xref\":\"paper\",\"y\":1.0,\"yanchor\":\"bottom\",\"yref\":\"paper\"},{\"font\":{\"size\":16},\"showarrow\":false,\"text\":\"Decision Maker Distribution\",\"x\":0.775,\"xanchor\":\"center\",\"xref\":\"paper\",\"y\":1.0,\"yanchor\":\"bottom\",\"yref\":\"paper\"},{\"font\":{\"size\":16},\"showarrow\":false,\"text\":\"Credit Rating Distribution\",\"x\":0.225,\"xanchor\":\"center\",\"xref\":\"paper\",\"y\":0.375,\"yanchor\":\"bottom\",\"yref\":\"paper\"},{\"font\":{\"size\":16},\"showarrow\":false,\"text\":\"Churn Risk Distribution\",\"x\":0.775,\"xanchor\":\"center\",\"xref\":\"paper\",\"y\":0.375,\"yanchor\":\"bottom\",\"yref\":\"paper\"}],\"title\":{\"text\":\"Customer Analysis Dashboard\"},\"height\":800,\"showlegend\":true},                        {\"responsive\": true}                    ).then(function(){\n",
              "                            \n",
              "var gd = document.getElementById('f2ddddff-5b9f-4894-996b-85080e0d1781');\n",
              "var x = new MutationObserver(function (mutations, observer) {{\n",
              "        var display = window.getComputedStyle(gd).display;\n",
              "        if (!display || display === 'none') {{\n",
              "            console.log([gd, 'removed!']);\n",
              "            Plotly.purge(gd);\n",
              "            observer.disconnect();\n",
              "        }}\n",
              "}});\n",
              "\n",
              "// Listen for the removal of the full notebook cells\n",
              "var notebookContainer = gd.closest('#notebook-container');\n",
              "if (notebookContainer) {{\n",
              "    x.observe(notebookContainer, {childList: true});\n",
              "}}\n",
              "\n",
              "// Listen for the clearing of the current output cell\n",
              "var outputEl = gd.closest('.output');\n",
              "if (outputEl) {{\n",
              "    x.observe(outputEl, {childList: true});\n",
              "}}\n",
              "\n",
              "                        })                };                            </script>        </div>\n",
              "</body>\n",
              "</html>"
            ]
          },
          "metadata": {}
        },
        {
          "output_type": "display_data",
          "data": {
            "text/html": [
              "<html>\n",
              "<head><meta charset=\"utf-8\" /></head>\n",
              "<body>\n",
              "    <div>            <script src=\"https://cdnjs.cloudflare.com/ajax/libs/mathjax/2.7.5/MathJax.js?config=TeX-AMS-MML_SVG\"></script><script type=\"text/javascript\">if (window.MathJax && window.MathJax.Hub && window.MathJax.Hub.Config) {window.MathJax.Hub.Config({SVG: {font: \"STIX-Web\"}});}</script>                <script type=\"text/javascript\">window.PlotlyConfig = {MathJaxConfig: 'local'};</script>\n",
              "        <script charset=\"utf-8\" src=\"https://cdn.plot.ly/plotly-2.35.2.min.js\"></script>                <div id=\"8945abcc-7f87-49bd-ad45-3294225804f6\" class=\"plotly-graph-div\" style=\"height:525px; width:100%;\"></div>            <script type=\"text/javascript\">                                    window.PLOTLYENV=window.PLOTLYENV || {};                                    if (document.getElementById(\"8945abcc-7f87-49bd-ad45-3294225804f6\")) {                    Plotly.newPlot(                        \"8945abcc-7f87-49bd-ad45-3294225804f6\",                        [{\"labels\":[\"Head of FX\",\"CFO\",\"CEO\",\"Treasury Manager\"],\"title\":{\"text\":\"Decision Maker Distribution\"},\"values\":[14,13,12,11],\"type\":\"pie\"}],                        {\"template\":{\"data\":{\"histogram2dcontour\":[{\"type\":\"histogram2dcontour\",\"colorbar\":{\"outlinewidth\":0,\"ticks\":\"\"},\"colorscale\":[[0.0,\"#0d0887\"],[0.1111111111111111,\"#46039f\"],[0.2222222222222222,\"#7201a8\"],[0.3333333333333333,\"#9c179e\"],[0.4444444444444444,\"#bd3786\"],[0.5555555555555556,\"#d8576b\"],[0.6666666666666666,\"#ed7953\"],[0.7777777777777778,\"#fb9f3a\"],[0.8888888888888888,\"#fdca26\"],[1.0,\"#f0f921\"]]}],\"choropleth\":[{\"type\":\"choropleth\",\"colorbar\":{\"outlinewidth\":0,\"ticks\":\"\"}}],\"histogram2d\":[{\"type\":\"histogram2d\",\"colorbar\":{\"outlinewidth\":0,\"ticks\":\"\"},\"colorscale\":[[0.0,\"#0d0887\"],[0.1111111111111111,\"#46039f\"],[0.2222222222222222,\"#7201a8\"],[0.3333333333333333,\"#9c179e\"],[0.4444444444444444,\"#bd3786\"],[0.5555555555555556,\"#d8576b\"],[0.6666666666666666,\"#ed7953\"],[0.7777777777777778,\"#fb9f3a\"],[0.8888888888888888,\"#fdca26\"],[1.0,\"#f0f921\"]]}],\"heatmap\":[{\"type\":\"heatmap\",\"colorbar\":{\"outlinewidth\":0,\"ticks\":\"\"},\"colorscale\":[[0.0,\"#0d0887\"],[0.1111111111111111,\"#46039f\"],[0.2222222222222222,\"#7201a8\"],[0.3333333333333333,\"#9c179e\"],[0.4444444444444444,\"#bd3786\"],[0.5555555555555556,\"#d8576b\"],[0.6666666666666666,\"#ed7953\"],[0.7777777777777778,\"#fb9f3a\"],[0.8888888888888888,\"#fdca26\"],[1.0,\"#f0f921\"]]}],\"heatmapgl\":[{\"type\":\"heatmapgl\",\"colorbar\":{\"outlinewidth\":0,\"ticks\":\"\"},\"colorscale\":[[0.0,\"#0d0887\"],[0.1111111111111111,\"#46039f\"],[0.2222222222222222,\"#7201a8\"],[0.3333333333333333,\"#9c179e\"],[0.4444444444444444,\"#bd3786\"],[0.5555555555555556,\"#d8576b\"],[0.6666666666666666,\"#ed7953\"],[0.7777777777777778,\"#fb9f3a\"],[0.8888888888888888,\"#fdca26\"],[1.0,\"#f0f921\"]]}],\"contourcarpet\":[{\"type\":\"contourcarpet\",\"colorbar\":{\"outlinewidth\":0,\"ticks\":\"\"}}],\"contour\":[{\"type\":\"contour\",\"colorbar\":{\"outlinewidth\":0,\"ticks\":\"\"},\"colorscale\":[[0.0,\"#0d0887\"],[0.1111111111111111,\"#46039f\"],[0.2222222222222222,\"#7201a8\"],[0.3333333333333333,\"#9c179e\"],[0.4444444444444444,\"#bd3786\"],[0.5555555555555556,\"#d8576b\"],[0.6666666666666666,\"#ed7953\"],[0.7777777777777778,\"#fb9f3a\"],[0.8888888888888888,\"#fdca26\"],[1.0,\"#f0f921\"]]}],\"surface\":[{\"type\":\"surface\",\"colorbar\":{\"outlinewidth\":0,\"ticks\":\"\"},\"colorscale\":[[0.0,\"#0d0887\"],[0.1111111111111111,\"#46039f\"],[0.2222222222222222,\"#7201a8\"],[0.3333333333333333,\"#9c179e\"],[0.4444444444444444,\"#bd3786\"],[0.5555555555555556,\"#d8576b\"],[0.6666666666666666,\"#ed7953\"],[0.7777777777777778,\"#fb9f3a\"],[0.8888888888888888,\"#fdca26\"],[1.0,\"#f0f921\"]]}],\"mesh3d\":[{\"type\":\"mesh3d\",\"colorbar\":{\"outlinewidth\":0,\"ticks\":\"\"}}],\"scatter\":[{\"fillpattern\":{\"fillmode\":\"overlay\",\"size\":10,\"solidity\":0.2},\"type\":\"scatter\"}],\"parcoords\":[{\"type\":\"parcoords\",\"line\":{\"colorbar\":{\"outlinewidth\":0,\"ticks\":\"\"}}}],\"scatterpolargl\":[{\"type\":\"scatterpolargl\",\"marker\":{\"colorbar\":{\"outlinewidth\":0,\"ticks\":\"\"}}}],\"bar\":[{\"error_x\":{\"color\":\"#2a3f5f\"},\"error_y\":{\"color\":\"#2a3f5f\"},\"marker\":{\"line\":{\"color\":\"#E5ECF6\",\"width\":0.5},\"pattern\":{\"fillmode\":\"overlay\",\"size\":10,\"solidity\":0.2}},\"type\":\"bar\"}],\"scattergeo\":[{\"type\":\"scattergeo\",\"marker\":{\"colorbar\":{\"outlinewidth\":0,\"ticks\":\"\"}}}],\"scatterpolar\":[{\"type\":\"scatterpolar\",\"marker\":{\"colorbar\":{\"outlinewidth\":0,\"ticks\":\"\"}}}],\"histogram\":[{\"marker\":{\"pattern\":{\"fillmode\":\"overlay\",\"size\":10,\"solidity\":0.2}},\"type\":\"histogram\"}],\"scattergl\":[{\"type\":\"scattergl\",\"marker\":{\"colorbar\":{\"outlinewidth\":0,\"ticks\":\"\"}}}],\"scatter3d\":[{\"type\":\"scatter3d\",\"line\":{\"colorbar\":{\"outlinewidth\":0,\"ticks\":\"\"}},\"marker\":{\"colorbar\":{\"outlinewidth\":0,\"ticks\":\"\"}}}],\"scattermapbox\":[{\"type\":\"scattermapbox\",\"marker\":{\"colorbar\":{\"outlinewidth\":0,\"ticks\":\"\"}}}],\"scatterternary\":[{\"type\":\"scatterternary\",\"marker\":{\"colorbar\":{\"outlinewidth\":0,\"ticks\":\"\"}}}],\"scattercarpet\":[{\"type\":\"scattercarpet\",\"marker\":{\"colorbar\":{\"outlinewidth\":0,\"ticks\":\"\"}}}],\"carpet\":[{\"aaxis\":{\"endlinecolor\":\"#2a3f5f\",\"gridcolor\":\"white\",\"linecolor\":\"white\",\"minorgridcolor\":\"white\",\"startlinecolor\":\"#2a3f5f\"},\"baxis\":{\"endlinecolor\":\"#2a3f5f\",\"gridcolor\":\"white\",\"linecolor\":\"white\",\"minorgridcolor\":\"white\",\"startlinecolor\":\"#2a3f5f\"},\"type\":\"carpet\"}],\"table\":[{\"cells\":{\"fill\":{\"color\":\"#EBF0F8\"},\"line\":{\"color\":\"white\"}},\"header\":{\"fill\":{\"color\":\"#C8D4E3\"},\"line\":{\"color\":\"white\"}},\"type\":\"table\"}],\"barpolar\":[{\"marker\":{\"line\":{\"color\":\"#E5ECF6\",\"width\":0.5},\"pattern\":{\"fillmode\":\"overlay\",\"size\":10,\"solidity\":0.2}},\"type\":\"barpolar\"}],\"pie\":[{\"automargin\":true,\"type\":\"pie\"}]},\"layout\":{\"autotypenumbers\":\"strict\",\"colorway\":[\"#636efa\",\"#EF553B\",\"#00cc96\",\"#ab63fa\",\"#FFA15A\",\"#19d3f3\",\"#FF6692\",\"#B6E880\",\"#FF97FF\",\"#FECB52\"],\"font\":{\"color\":\"#2a3f5f\"},\"hovermode\":\"closest\",\"hoverlabel\":{\"align\":\"left\"},\"paper_bgcolor\":\"white\",\"plot_bgcolor\":\"#E5ECF6\",\"polar\":{\"bgcolor\":\"#E5ECF6\",\"angularaxis\":{\"gridcolor\":\"white\",\"linecolor\":\"white\",\"ticks\":\"\"},\"radialaxis\":{\"gridcolor\":\"white\",\"linecolor\":\"white\",\"ticks\":\"\"}},\"ternary\":{\"bgcolor\":\"#E5ECF6\",\"aaxis\":{\"gridcolor\":\"white\",\"linecolor\":\"white\",\"ticks\":\"\"},\"baxis\":{\"gridcolor\":\"white\",\"linecolor\":\"white\",\"ticks\":\"\"},\"caxis\":{\"gridcolor\":\"white\",\"linecolor\":\"white\",\"ticks\":\"\"}},\"coloraxis\":{\"colorbar\":{\"outlinewidth\":0,\"ticks\":\"\"}},\"colorscale\":{\"sequential\":[[0.0,\"#0d0887\"],[0.1111111111111111,\"#46039f\"],[0.2222222222222222,\"#7201a8\"],[0.3333333333333333,\"#9c179e\"],[0.4444444444444444,\"#bd3786\"],[0.5555555555555556,\"#d8576b\"],[0.6666666666666666,\"#ed7953\"],[0.7777777777777778,\"#fb9f3a\"],[0.8888888888888888,\"#fdca26\"],[1.0,\"#f0f921\"]],\"sequentialminus\":[[0.0,\"#0d0887\"],[0.1111111111111111,\"#46039f\"],[0.2222222222222222,\"#7201a8\"],[0.3333333333333333,\"#9c179e\"],[0.4444444444444444,\"#bd3786\"],[0.5555555555555556,\"#d8576b\"],[0.6666666666666666,\"#ed7953\"],[0.7777777777777778,\"#fb9f3a\"],[0.8888888888888888,\"#fdca26\"],[1.0,\"#f0f921\"]],\"diverging\":[[0,\"#8e0152\"],[0.1,\"#c51b7d\"],[0.2,\"#de77ae\"],[0.3,\"#f1b6da\"],[0.4,\"#fde0ef\"],[0.5,\"#f7f7f7\"],[0.6,\"#e6f5d0\"],[0.7,\"#b8e186\"],[0.8,\"#7fbc41\"],[0.9,\"#4d9221\"],[1,\"#276419\"]]},\"xaxis\":{\"gridcolor\":\"white\",\"linecolor\":\"white\",\"ticks\":\"\",\"title\":{\"standoff\":15},\"zerolinecolor\":\"white\",\"automargin\":true,\"zerolinewidth\":2},\"yaxis\":{\"gridcolor\":\"white\",\"linecolor\":\"white\",\"ticks\":\"\",\"title\":{\"standoff\":15},\"zerolinecolor\":\"white\",\"automargin\":true,\"zerolinewidth\":2},\"scene\":{\"xaxis\":{\"backgroundcolor\":\"#E5ECF6\",\"gridcolor\":\"white\",\"linecolor\":\"white\",\"showbackground\":true,\"ticks\":\"\",\"zerolinecolor\":\"white\",\"gridwidth\":2},\"yaxis\":{\"backgroundcolor\":\"#E5ECF6\",\"gridcolor\":\"white\",\"linecolor\":\"white\",\"showbackground\":true,\"ticks\":\"\",\"zerolinecolor\":\"white\",\"gridwidth\":2},\"zaxis\":{\"backgroundcolor\":\"#E5ECF6\",\"gridcolor\":\"white\",\"linecolor\":\"white\",\"showbackground\":true,\"ticks\":\"\",\"zerolinecolor\":\"white\",\"gridwidth\":2}},\"shapedefaults\":{\"line\":{\"color\":\"#2a3f5f\"}},\"annotationdefaults\":{\"arrowcolor\":\"#2a3f5f\",\"arrowhead\":0,\"arrowwidth\":1},\"geo\":{\"bgcolor\":\"white\",\"landcolor\":\"#E5ECF6\",\"subunitcolor\":\"white\",\"showland\":true,\"showlakes\":true,\"lakecolor\":\"white\"},\"title\":{\"x\":0.05},\"mapbox\":{\"style\":\"light\"}}}},                        {\"responsive\": true}                    ).then(function(){\n",
              "                            \n",
              "var gd = document.getElementById('8945abcc-7f87-49bd-ad45-3294225804f6');\n",
              "var x = new MutationObserver(function (mutations, observer) {{\n",
              "        var display = window.getComputedStyle(gd).display;\n",
              "        if (!display || display === 'none') {{\n",
              "            console.log([gd, 'removed!']);\n",
              "            Plotly.purge(gd);\n",
              "            observer.disconnect();\n",
              "        }}\n",
              "}});\n",
              "\n",
              "// Listen for the removal of the full notebook cells\n",
              "var notebookContainer = gd.closest('#notebook-container');\n",
              "if (notebookContainer) {{\n",
              "    x.observe(notebookContainer, {childList: true});\n",
              "}}\n",
              "\n",
              "// Listen for the clearing of the current output cell\n",
              "var outputEl = gd.closest('.output');\n",
              "if (outputEl) {{\n",
              "    x.observe(outputEl, {childList: true});\n",
              "}}\n",
              "\n",
              "                        })                };                            </script>        </div>\n",
              "</body>\n",
              "</html>"
            ]
          },
          "metadata": {}
        }
      ]
    },
    {
      "cell_type": "code",
      "source": [],
      "metadata": {
        "id": "4dVjqi7K0Fei"
      },
      "execution_count": null,
      "outputs": []
    }
  ]
}